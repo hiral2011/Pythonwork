{
 "cells": [
  {
   "cell_type": "code",
   "execution_count": 1,
   "id": "0d138b76",
   "metadata": {},
   "outputs": [
    {
     "name": "stdout",
     "output_type": "stream",
     "text": [
      "enter num=5\n",
      "0 \n",
      "1 1 \n",
      "2 2 2 \n",
      "3 3 3 3 \n",
      "4 4 4 4 4 \n",
      "5 5 5 5 5 5 \n"
     ]
    }
   ],
   "source": [
    "n=int(input(\"enter num=\"))\n",
    "for i in range(n+1):\n",
    "    for j in range(i+1):\n",
    "        print(i,end=\" \")\n",
    "    print()"
   ]
  },
  {
   "cell_type": "code",
   "execution_count": 6,
   "id": "e02ce9e5",
   "metadata": {},
   "outputs": [
    {
     "name": "stdout",
     "output_type": "stream",
     "text": [
      "enter num=5\n",
      "1 \n",
      "2 2 \n",
      "3   3 \n",
      "4     4 \n",
      "5 5 5 5 5 \n"
     ]
    }
   ],
   "source": [
    "n=int(input(\"enter num=\"))\n",
    "for i in range(n):\n",
    "#     print(i,n)\n",
    "    for j in range(i+1):\n",
    "#         print(i)\n",
    "        if i==n-1 or j==0 or j==i:\n",
    "            print(i+1,end=\" \")\n",
    "        else:\n",
    "            print(\" \",end=\" \")\n",
    "    print()"
   ]
  },
  {
   "cell_type": "code",
   "execution_count": 11,
   "id": "6bb03aa9",
   "metadata": {},
   "outputs": [
    {
     "name": "stdout",
     "output_type": "stream",
     "text": [
      "enter num=5\n",
      "\n",
      "1 \n",
      "2 2 \n",
      "3 3 3 \n",
      "4 4 4 4 \n"
     ]
    }
   ],
   "source": [
    "n=int(input(\"enter num=\"))\n",
    "for i in range(n):\n",
    "#     print(i,n)\n",
    "    for j in range(i):\n",
    "#         print(i)\n",
    "#         if i==n or j==0 or j==i:\n",
    "            print(i,end=\" \")\n",
    "#         else:\n",
    "#             print(\" \",end=\" \")\n",
    "    print()"
   ]
  },
  {
   "cell_type": "code",
   "execution_count": 15,
   "id": "f45e46a8",
   "metadata": {},
   "outputs": [
    {
     "name": "stdout",
     "output_type": "stream",
     "text": [
      "enter num=5\n",
      "1 \n",
      "2 2 \n",
      "3 3 3 \n",
      "4 4 4 4 \n",
      "5 5 5 5 5 \n"
     ]
    }
   ],
   "source": [
    "n=int(input(\"enter num=\"))\n",
    "for i in range(n):\n",
    "    for j in range(i+1):\n",
    "        print(i+1,end=\" \")\n",
    "    print()"
   ]
  },
  {
   "cell_type": "code",
   "execution_count": 64,
   "id": "5c138f73",
   "metadata": {},
   "outputs": [
    {
     "name": "stdout",
     "output_type": "stream",
     "text": [
      "enter num=5\n",
      "1 \n",
      "1 2 \n",
      "1 2 3 \n",
      "1 2 3 4 \n",
      "1 2 3 4 5 \n"
     ]
    }
   ],
   "source": [
    "n=int(input(\"enter num=\"))\n",
    "for i in range(1,n+1):\n",
    "#     print(i,end=\" \")\n",
    "    for j in range(i):\n",
    "#         print(j,end=\" \")\n",
    "        print(j+1,end=\" \")\n",
    "    print()"
   ]
  },
  {
   "cell_type": "code",
   "execution_count": 18,
   "id": "c1746f03",
   "metadata": {},
   "outputs": [
    {
     "name": "stdout",
     "output_type": "stream",
     "text": [
      "enter num=5\n",
      "0 \n",
      "1 1 \n",
      "2 2 2 \n",
      "3 3 3 3 \n",
      "4 4 4 4 4 \n"
     ]
    }
   ],
   "source": [
    "n=int(input(\"enter num=\"))\n",
    "for i in range(n):\n",
    "    for j in range(i+1):\n",
    "        print(i,end=\" \")\n",
    "        \n",
    "    print()"
   ]
  },
  {
   "cell_type": "code",
   "execution_count": 70,
   "id": "bf48d80d",
   "metadata": {},
   "outputs": [
    {
     "name": "stdout",
     "output_type": "stream",
     "text": [
      "enter num=5\n",
      "1 2 3 4 5 \n",
      "1 2 3 4 \n",
      "1 2 3 \n",
      "1 2 \n",
      "1 \n"
     ]
    }
   ],
   "source": [
    "n=int(input(\"enter num=\"))\n",
    "for i in range(n,0,-1):\n",
    "    for j in range(i,0,-1):\n",
    "        print(i-j+1,end=\" \")\n",
    "    print()"
   ]
  },
  {
   "cell_type": "code",
   "execution_count": 78,
   "id": "5240e9d7",
   "metadata": {},
   "outputs": [
    {
     "name": "stdout",
     "output_type": "stream",
     "text": [
      "enter num=5\n",
      "1 2 3 4 5 \n",
      "2 3 4 5 \n",
      "3 4 5 \n",
      "4 5 \n",
      "5 \n"
     ]
    }
   ],
   "source": [
    "n=int(input(\"enter num=\"))\n",
    "for i in range(1,n+1):\n",
    "    for j in range(i,n+1):\n",
    "        print(j,end=\" \")\n",
    "    print()"
   ]
  },
  {
   "cell_type": "code",
   "execution_count": 14,
   "id": "ee600a2f",
   "metadata": {},
   "outputs": [
    {
     "name": "stdout",
     "output_type": "stream",
     "text": [
      "enter num=5\n",
      "          0 \n",
      "        1 1 1 \n",
      "      2 2 2 2 2 \n",
      "    3 3 3 3 3 3 3 \n",
      "  4 4 4 4 4 4 4 4 4 \n"
     ]
    }
   ],
   "source": [
    "n=int(input(\"enter num=\"))\n",
    "for i in range(n):\n",
    "    for j in range(i,n):\n",
    "        print(' ',end=\" \")\n",
    "    for j in range(i+1):\n",
    "        print(i,end=\" \")\n",
    "    for j in range(i):\n",
    "        print(i,end=\" \")\n",
    "    print()"
   ]
  },
  {
   "cell_type": "code",
   "execution_count": 39,
   "id": "e5328453",
   "metadata": {},
   "outputs": [
    {
     "name": "stdout",
     "output_type": "stream",
     "text": [
      "enter num=6\n",
      "              1 \n",
      "            1 2 \n",
      "          1 2 3 \n",
      "        1 2 3 4 \n",
      "      1 2 3 4 5 \n",
      "    1 2 3 4 5 6 \n"
     ]
    }
   ],
   "source": [
    "n=int(input(\"enter num=\"))\n",
    "for i in range(n):\n",
    "    for j in range(i,n+1):\n",
    "        print(' ',end=\" \")\n",
    "    for j in range(i+1):\n",
    "        print(j+1,end=\" \")\n",
    "    for j in range(j+1):\n",
    "        print(j+1,end=\" \")\n",
    "    print()"
   ]
  },
  {
   "cell_type": "code",
   "execution_count": 125,
   "id": "d785fec1",
   "metadata": {},
   "outputs": [
    {
     "name": "stdout",
     "output_type": "stream",
     "text": [
      "enter num=5\n",
      "            1 \n",
      "          1 2 1 \n",
      "        1 2 3 2 1 \n",
      "      1 2 3 4 3 2 1 \n",
      "    1 2 3 4 5 4 3 2 1 \n"
     ]
    }
   ],
   "source": [
    "n=int(input(\"enter num=\"))\n",
    "for i in range(n):\n",
    "    for j in range(i,n+1):\n",
    "        print(' ',end=\" \")\n",
    "    for j in range(i+1):\n",
    "        print(j+1,end=\" \")\n",
    "    for j in range(i,0,-1):\n",
    "        print(j,end=\" \")\n",
    "    print()"
   ]
  },
  {
   "cell_type": "code",
   "execution_count": 126,
   "id": "5801e6c4",
   "metadata": {},
   "outputs": [
    {
     "name": "stdout",
     "output_type": "stream",
     "text": [
      "enter num=5\n",
      "            1 \n",
      "          2 2 \n",
      "        3 3 3 \n",
      "      4 4 4 4 \n",
      "    5 5 5 5 5 \n"
     ]
    }
   ],
   "source": [
    "n=int(input(\"enter num=\"))\n",
    "for i in range(n):\n",
    "    for j in range(i,n+1):\n",
    "        print(' ',end=\" \")\n",
    "    for j in range(i+1):\n",
    "        print(i+1,end=\" \")\n",
    "#     for j in range(i):\n",
    "#         print(i,end=\" \")\n",
    "    print()"
   ]
  },
  {
   "cell_type": "code",
   "execution_count": 123,
   "id": "b3001430",
   "metadata": {},
   "outputs": [
    {
     "name": "stdout",
     "output_type": "stream",
     "text": [
      "enter num=5\n",
      "            1 \n",
      "          2 3 2 \n",
      "        3 4 5 3 2 \n",
      "      4 5 6 7 4 3 2 \n",
      "    5 6 7 8 9 5 4 3 2 \n"
     ]
    }
   ],
   "source": [
    "n=int(input(\"enter num=\"))\n",
    "for i in range(n):\n",
    "    for j in range(i,n+1):\n",
    "        print(' ',end=\" \")\n",
    "    for j in range(i+1):\n",
    "        print(j+i+1,end=\" \")\n",
    "    for j in range(i,0,-1):\n",
    "        print(j+1,end=\" \")\n",
    "    print()"
   ]
  },
  {
   "cell_type": "code",
   "execution_count": 141,
   "id": "7e74249d",
   "metadata": {},
   "outputs": [
    {
     "name": "stdout",
     "output_type": "stream",
     "text": [
      "enter num=5\n",
      "1 2 \n",
      "1 2 3 3 \n",
      "1 2 3 4 4 4 \n",
      "1 2 3 4 5 5 5 5 \n"
     ]
    }
   ],
   "source": [
    "n=int(input(\"enter num=\"))\n",
    "for i in range(1,n):\n",
    "#     for j in range(i,n+1):\n",
    "#         print(' ',end=\" \")\n",
    "    for j in range(i):\n",
    "        print(j+1,end=\" \")\n",
    "    for j in range(i):\n",
    "        print(i+1,end=\" \")\n",
    "    print()"
   ]
  },
  {
   "cell_type": "code",
   "execution_count": 146,
   "id": "f220063a",
   "metadata": {},
   "outputs": [
    {
     "name": "stdout",
     "output_type": "stream",
     "text": [
      "enter num=5\n",
      "0 \n",
      "1 1 \n",
      "2   2 \n",
      "3     3 \n",
      "4 4 4 4 4 \n"
     ]
    }
   ],
   "source": [
    "n=int(input(\"enter num=\"))\n",
    "for i in range(n):\n",
    "#     print(i,n)\n",
    "    for j in range(i+1):\n",
    "#         print(i)\n",
    "        if i==n-1 or j==0 or j==i:\n",
    "            print(i,end=\" \")\n",
    "        else:\n",
    "            print(\" \",end=\" \")\n",
    "    print()"
   ]
  },
  {
   "cell_type": "code",
   "execution_count": 210,
   "id": "d427985f",
   "metadata": {},
   "outputs": [
    {
     "name": "stdout",
     "output_type": "stream",
     "text": [
      "enter num=9\n",
      "1 2 3 4 5 6 7 8 \n",
      "2           8 \n",
      "3         8 \n",
      "4       8 \n",
      "5     8 \n",
      "6   8 \n",
      "7 8 \n",
      "8 \n"
     ]
    }
   ],
   "source": [
    "n=int(input(\"enter num=\"))\n",
    "for i in range(1,n):\n",
    "    for j in range(i,n):\n",
    "        if i==1 or j==i or j==n-1:\n",
    "            print(j,end=\" \")\n",
    "        else:\n",
    "            print(\" \",end=\" \")\n",
    "    print()"
   ]
  },
  {
   "cell_type": "code",
   "execution_count": 276,
   "id": "4b50ec6e",
   "metadata": {
    "scrolled": true
   },
   "outputs": [
    {
     "name": "stdout",
     "output_type": "stream",
     "text": [
      "enter num=5\n",
      "1 \n",
      "1 2 \n",
      "1   3 \n",
      "1     4 \n",
      "1 2 3 4 5 \n"
     ]
    }
   ],
   "source": [
    "n=int(input(\"enter num=\"))\n",
    "for i in range(n):\n",
    "#     print(i,n)\n",
    "    for j in range(i+1):\n",
    "#         print(i)\n",
    "        if i==n-1 or j==0 or j==i :\n",
    "            print(j+1,end=\" \")\n",
    "        else:\n",
    "            print(\" \",end=\" \")\n",
    "    print()"
   ]
  },
  {
   "cell_type": "code",
   "execution_count": 13,
   "id": "d9d47ee5",
   "metadata": {},
   "outputs": [
    {
     "name": "stdout",
     "output_type": "stream",
     "text": [
      "enter num=6\n",
      "            0*\n",
      "          1*1*1*\n",
      "        2*2*2*2*2*\n",
      "      3*3*3*3*3*3*3*\n",
      "    4*4*4*4*4*4*4*4*4*\n",
      "  5*5*5*5*5*5*5*5*5*5*5*\n"
     ]
    }
   ],
   "source": [
    "n=int(input(\"enter num=\"))\n",
    "for i in range(n):\n",
    "    for j in range(i,n):\n",
    "        print(' ',end=\" \")\n",
    "    for j in range(i+1):\n",
    "        print(i,end=\"*\")\n",
    "    for j in range(i):\n",
    "        print(i,end=\"*\")\n",
    "  \n",
    "    print()"
   ]
  },
  {
   "cell_type": "code",
   "execution_count": 64,
   "id": "a8a06567",
   "metadata": {},
   "outputs": [
    {
     "name": "stdout",
     "output_type": "stream",
     "text": [
      "enter num=5\n",
      "        0 \n",
      "      1   1 \n",
      "    2       2 \n",
      "  3           3 \n",
      "4 4 4 4 0 1 2 3 4 \n"
     ]
    }
   ],
   "source": [
    "n=int(input(\"enter num=\"))\n",
    "for i in range(n):\n",
    "    for j in range(n-1):\n",
    "        if i==n-1 or  i+j==n-1:\n",
    "            print(i,end=\" \")\n",
    "        else:\n",
    "              print(' ',end=\" \")\n",
    "    for j in range(i+1):\n",
    "        if i==n-1 or  j==i :\n",
    "            print(j,end=\" \")\n",
    "        else:\n",
    "            print(\" \",end=\" \")\n",
    "    print()"
   ]
  },
  {
   "cell_type": "code",
   "execution_count": 94,
   "id": "5b72f760",
   "metadata": {},
   "outputs": [
    {
     "name": "stdout",
     "output_type": "stream",
     "text": [
      "enter num=5\n",
      "        1 1 \n",
      "      2     2 \n",
      "    3         3 \n",
      "  4             4 \n",
      "5 5 5 5 5 1 2 3 4 5 \n"
     ]
    }
   ],
   "source": [
    "n=int(input(\"enter num=\"))\n",
    "for i in range(n):\n",
    "    for j in range(n):\n",
    "        if i==n-1 or i+j==n-1:\n",
    "            print(i+1,end=\" \")\n",
    "        else:\n",
    "              print(' ',end=\" \")\n",
    "    for j in range(i+1):\n",
    "        if i==n-1 or  j==i :\n",
    "            print(j+1,end=\" \")\n",
    "        else:\n",
    "            print(\" \",end=\" \")\n",
    "    print()"
   ]
  },
  {
   "cell_type": "code",
   "execution_count": 111,
   "id": "48a7f1cd",
   "metadata": {},
   "outputs": [
    {
     "name": "stdout",
     "output_type": "stream",
     "text": [
      "enter num=5\n",
      "            1 \n",
      "          1 2 1 \n",
      "        1 2 3 2 1 \n",
      "      1 2 3 4 3 2 1 \n",
      "    1 2 3 4 5 4 3 2 1 \n"
     ]
    }
   ],
   "source": [
    "n=int(input(\"enter num=\"))\n",
    "for i in range(n):\n",
    "    for j in range(i,n+1):\n",
    "        print(' ',end=\" \")\n",
    "    for j in range(i+1):\n",
    "        print(j+1,end=\" \")\n",
    "    for j in range(i,0,-1):\n",
    "        print(j,end=\" \")\n",
    "#         for j in range(i,0,-1):\n",
    "#         print(j,end=\" \")\n",
    "    print()"
   ]
  },
  {
   "cell_type": "code",
   "execution_count": 109,
   "id": "4386e27c",
   "metadata": {},
   "outputs": [
    {
     "name": "stdout",
     "output_type": "stream",
     "text": [
      "enter num=5\n",
      "        1 \n",
      "      1   2 \n",
      "    2       3 \n",
      "  3           4 \n",
      "4 4 4 4 1 2 3 4 5 \n"
     ]
    }
   ],
   "source": [
    "n=int(input(\"enter num=\"))\n",
    "for i in range(n):\n",
    "    for j in range(n-1):\n",
    "        if i==n-1 or  i+j==n-1:\n",
    "            print(i,end=\" \")\n",
    "        else:\n",
    "              print(' ',end=\" \")\n",
    "    for j in range(i+1):\n",
    "        if i==n-1 or  j==i:\n",
    "            print(j+1,end=\" \")\n",
    "        else:\n",
    "            print(\" \",end=\" \")\n",
    "    print()"
   ]
  },
  {
   "cell_type": "code",
   "execution_count": null,
   "id": "ab751cad",
   "metadata": {},
   "outputs": [],
   "source": []
  }
 ],
 "metadata": {
  "kernelspec": {
   "display_name": "Python 3 (ipykernel)",
   "language": "python",
   "name": "python3"
  },
  "language_info": {
   "codemirror_mode": {
    "name": "ipython",
    "version": 3
   },
   "file_extension": ".py",
   "mimetype": "text/x-python",
   "name": "python",
   "nbconvert_exporter": "python",
   "pygments_lexer": "ipython3",
   "version": "3.9.7"
  }
 },
 "nbformat": 4,
 "nbformat_minor": 5
}
