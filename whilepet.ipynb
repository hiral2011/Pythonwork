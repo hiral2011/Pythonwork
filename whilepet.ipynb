{
 "cells": [
  {
   "cell_type": "code",
   "execution_count": 107,
   "id": "5eeeda79",
   "metadata": {
    "scrolled": false
   },
   "outputs": [
    {
     "name": "stdout",
     "output_type": "stream",
     "text": [
      "5\n",
      "* \n",
      "* * \n",
      "* * * \n",
      "* * * * \n",
      "* * * * * \n",
      "* * * * * * \n"
     ]
    }
   ],
   "source": [
    "n = int(input())\n",
    "i = 0\n",
    "while i <= n :\n",
    "    j = 0\n",
    "    while j <= i:\n",
    "        print(\"*\", end = \" \")\n",
    "        j += 1\n",
    "    print()\n",
    "    i += 1"
   ]
  },
  {
   "cell_type": "code",
   "execution_count": null,
   "id": "c44f3295",
   "metadata": {},
   "outputs": [],
   "source": [
    "\n"
   ]
  },
  {
   "cell_type": "code",
   "execution_count": 108,
   "id": "fb555644",
   "metadata": {},
   "outputs": [
    {
     "name": "stdout",
     "output_type": "stream",
     "text": [
      "5\n",
      "* * * * * * \n",
      "* * * * * \n",
      "* * * * \n",
      "* * * \n",
      "* * \n",
      "* \n"
     ]
    }
   ],
   "source": [
    "n = int(input())\n",
    "i = 0\n",
    "while i <= n :\n",
    "    j = n\n",
    "    while j >= i:\n",
    "        print(\"*\", end = \" \")\n",
    "        j -= 1\n",
    "    print()\n",
    "    i += 1"
   ]
  },
  {
   "cell_type": "code",
   "execution_count": 107,
   "id": "7ff2bb46",
   "metadata": {},
   "outputs": [
    {
     "name": "stdout",
     "output_type": "stream",
     "text": [
      "5\n",
      "        * \n",
      "      * * \n",
      "    * * * \n",
      "  * * * * \n",
      "* * * * * \n"
     ]
    }
   ],
   "source": [
    "n = int(input())\n",
    "i=0\n",
    "while i < n:\n",
    "    j=n-i-1\n",
    "    while j>0:\n",
    "        print(\" \", end = \" \")\n",
    "        j=j-1\n",
    "    j=i+1\n",
    "    while j>0:\n",
    "        print(\"*\",end=\" \")\n",
    "        j=j-1\n",
    "    i=i+1\n",
    "    print()"
   ]
  },
  {
   "cell_type": "code",
   "execution_count": 293,
   "id": "8081fa12",
   "metadata": {
    "scrolled": false
   },
   "outputs": [
    {
     "name": "stdout",
     "output_type": "stream",
     "text": [
      "5\n",
      "* * * * * \n",
      "  * * * * \n",
      "    * * * \n",
      "      * * \n",
      "        * \n"
     ]
    }
   ],
   "source": [
    "n = int(input())\n",
    "i = 1\n",
    "while(i <= n):\n",
    "    j = 1\n",
    "    while(j <= n):\n",
    "        if(j < i):\n",
    "            print(' ', end = ' ')\n",
    "        else:\n",
    "            print('*', end = ' ')\n",
    "        j = j + 1\n",
    "    i = i + 1\n",
    "    print()"
   ]
  },
  {
   "cell_type": "code",
   "execution_count": null,
   "id": "56e0394e",
   "metadata": {},
   "outputs": [],
   "source": []
  },
  {
   "cell_type": "code",
   "execution_count": 111,
   "id": "5b555127",
   "metadata": {
    "scrolled": true
   },
   "outputs": [
    {
     "name": "stdout",
     "output_type": "stream",
     "text": [
      "5\n",
      "i 0 n 5 \n",
      "j 0 i 0 j 4 i 0   j 3 i 0 j 3 i 0   j 2 i 0 j 2 i 0   j 1 i 0 j 1 i 0   j 0 i 0 j 1 i 0 j 1 * j 0 i 0 i 1 \n",
      "i 1 n 5 \n",
      "j 1 i 1 j 3 i 1   j 2 i 1 j 2 i 1   j 1 i 1 j 1 i 1   j 0 i 1 j 2 i 1 j 2 * j 1 i 1 j 1 * j 0 i 1 i 2 \n",
      "i 2 n 5 \n",
      "j 2 i 2 j 2 i 2   j 1 i 2 j 1 i 2   j 0 i 2 j 3 i 2 j 3 * j 2 i 2 j 2 * j 1 i 2 j 1 * j 0 i 2 i 3 \n",
      "i 3 n 5 \n",
      "j 3 i 3 j 1 i 3   j 0 i 3 j 4 i 3 j 4 * j 3 i 3 j 3 * j 2 i 3 j 2 * j 1 i 3 j 1 * j 0 i 3 i 4 \n",
      "i 4 n 5 \n",
      "j 4 i 4 j 5 i 4 j 5 * j 4 i 4 j 4 * j 3 i 4 j 3 * j 2 i 4 j 2 * j 1 i 4 j 1 * j 0 i 4 i 5 \n"
     ]
    }
   ],
   "source": [
    "n = int(input())\n",
    "i=0\n",
    "while i < n:\n",
    "    print(\"i\",i,end=\" \")\n",
    "    print(\"n\",n,end=\" \")\n",
    "    print()\n",
    "    j=n-i-1\n",
    "    print(\"j\",i,end=\" \")\n",
    "    print(\"i\",i,end=\" \")\n",
    "    while j>0:\n",
    "        print(\"j\",j,end=\" \")\n",
    "        print(\"i\",i,end=\" \")\n",
    "        print(\" \", end = \" \")\n",
    "        j=j-1\n",
    "        print(\"j\",j,end=\" \")\n",
    "        print(\"i\",i,end=\" \")\n",
    "    j=i+1\n",
    "    print(\"j\",j,end=\" \")\n",
    "    print(\"i\",i,end=\" \")\n",
    "    while j>0:\n",
    "        print(\"j\",j,end=\" \")\n",
    "        print(\"*\",end=\" \")\n",
    "        j=j-1\n",
    "        print(\"j\",j,end=\" \")\n",
    "        print(\"i\",i,end=\" \")\n",
    "    i=i+1\n",
    "    print(\"i\",i,end=\" \")\n",
    "    print()\n",
    "    "
   ]
  },
  {
   "cell_type": "code",
   "execution_count": 31,
   "id": "261a79f5",
   "metadata": {
    "scrolled": true
   },
   "outputs": [
    {
     "name": "stdout",
     "output_type": "stream",
     "text": [
      "5\n",
      "* \n",
      "* * \n",
      "* * * \n",
      "* * * * \n",
      "* * * * * \n",
      "* * * * * * \n",
      "* * * * * \n",
      "* * * * \n",
      "* * * \n",
      "* * \n",
      "* \n"
     ]
    }
   ],
   "source": [
    "n = int(input())\n",
    "i = 0\n",
    "while i <= n :\n",
    "    j = 0\n",
    "    while j <= i:\n",
    "        print(\"*\", end = \" \")\n",
    "        j += 1\n",
    "    print()\n",
    "    i += 1\n",
    "i = 1\n",
    "while i <= n :\n",
    "    j = n\n",
    "    while j >= i:\n",
    "        print(\"*\", end = \" \")\n",
    "        j -= 1\n",
    "    print()\n",
    "    i += 1"
   ]
  },
  {
   "cell_type": "code",
   "execution_count": 50,
   "id": "8f07784b",
   "metadata": {},
   "outputs": [
    {
     "name": "stdout",
     "output_type": "stream",
     "text": [
      "5\n",
      "        * \n",
      "      * * \n",
      "    * * * \n",
      "  * * * * \n",
      "* * * * * \n",
      "  * * * * \n",
      "    * * * \n",
      "      * * \n",
      "        * \n"
     ]
    }
   ],
   "source": [
    "n = int(input())\n",
    "i=0\n",
    "while i < n-1:\n",
    "    j=n-i-1\n",
    "    while j>0:\n",
    "        print(\" \", end = \" \")\n",
    "        j=j-1\n",
    "    j=i+1\n",
    "    while j>0:\n",
    "        print(\"*\",end=\" \")\n",
    "        j=j-1\n",
    "    i=i+1\n",
    "    print()\n",
    "i =1\n",
    "while(i <= n):\n",
    "    j = 1\n",
    "    while(j <=n):\n",
    "        if(j < i):\n",
    "            print(' ', end = ' ')\n",
    "        else:\n",
    "            print('*', end = ' ')\n",
    "        j = j + 1\n",
    "    i = i + 1\n",
    "    print()\n",
    "    "
   ]
  },
  {
   "cell_type": "code",
   "execution_count": 55,
   "id": "8eced137",
   "metadata": {},
   "outputs": [
    {
     "name": "stdout",
     "output_type": "stream",
     "text": [
      "5\n",
      "* \n",
      "* * \n",
      "* * * \n",
      "* * * * \n",
      "* * * * * \n",
      "* * * * * \n",
      "  * * * * \n",
      "    * * * \n",
      "      * * \n",
      "        * \n"
     ]
    }
   ],
   "source": [
    "n = int(input())\n",
    "i = 0\n",
    "while i < n :\n",
    "    j = 0\n",
    "    while j <= i:\n",
    "        print(\"*\", end = \" \")\n",
    "        j += 1\n",
    "    print()\n",
    "    i += 1\n",
    "i = 1\n",
    "while(i <= n):\n",
    "    j = 1\n",
    "    while(j <= n):\n",
    "        if(j < i):\n",
    "            print(' ', end = ' ')\n",
    "        else:\n",
    "            print('*', end = ' ')\n",
    "        j = j + 1\n",
    "    i = i + 1\n",
    "    print()"
   ]
  },
  {
   "cell_type": "code",
   "execution_count": 586,
   "id": "ae7de92e",
   "metadata": {
    "scrolled": false
   },
   "outputs": [
    {
     "name": "stdout",
     "output_type": "stream",
     "text": [
      "5\n",
      "        * \n",
      "* * * * * * \n",
      "* * * * * \n",
      "* * * * \n",
      "* * * \n",
      "* * \n",
      "* \n"
     ]
    }
   ],
   "source": [
    "n = int(input())\n",
    "i=0\n",
    "while i < n:\n",
    "    j=n-i-1\n",
    "    while j>0:\n",
    "        print(\" \", end = \" \")\n",
    "        j=j-1\n",
    "    j=i+1\n",
    "    while j>0:\n",
    "        print(\"*\",end=\" \")\n",
    "        j=j-1\n",
    "    i=i+1\n",
    "    print()\n",
    "    i = 0\n",
    "    while i <= n :\n",
    "        j = n\n",
    "        while j >= i:\n",
    "            print(\"*\", end = \" \")\n",
    "            j -= 1\n",
    "        print()\n",
    "        i += 1"
   ]
  },
  {
   "cell_type": "code",
   "execution_count": 273,
   "id": "6cf5617a",
   "metadata": {
    "scrolled": false
   },
   "outputs": [
    {
     "name": "stdout",
     "output_type": "stream",
     "text": [
      "5\n",
      "* * * * * * * * * \n",
      "  * * * * * * * \n",
      "    * * * * * \n",
      "      * * * \n",
      "        * \n"
     ]
    }
   ],
   "source": [
    "n = int(input())\n",
    "i = 1\n",
    "while(i <= n):\n",
    "#     print(\"i\",i,=\" \")\n",
    "#     print(\"n\",n,end=\" \")\n",
    "    j = 1\n",
    "    while(j <= n):\n",
    "        if(j < i):\n",
    "            print(' ', end = ' ')\n",
    "        else:\n",
    "            print('*', end = ' ')\n",
    "        j = j + 1\n",
    "    i = i + 1\n",
    "    j = n\n",
    "    while j >= i:\n",
    "        print(\"*\", end = \" \")\n",
    "        j -= 1\n",
    "    print()"
   ]
  },
  {
   "cell_type": "code",
   "execution_count": 594,
   "id": "83d4d25a",
   "metadata": {
    "scrolled": true
   },
   "outputs": [
    {
     "name": "stdout",
     "output_type": "stream",
     "text": [
      "5\n",
      "        * \n",
      "      * * \n",
      "    * * * \n",
      "  * * * * \n",
      "* * * * * * * * * \n",
      "  * * * * * * * \n",
      "    * * * * * \n",
      "      * * * \n",
      "        * \n"
     ]
    }
   ],
   "source": [
    "n = int(input())\n",
    "i=0\n",
    "while i < n-1:\n",
    "    j=n-i-1\n",
    "    while j>0:\n",
    "        print(\" \", end = \" \")\n",
    "        j=j-1\n",
    "    j+=1\n",
    "    while j>0:\n",
    "        print(\"*\",end=\" \")\n",
    "        j=j-1\n",
    "    i=i+1\n",
    "    j = 1\n",
    "    while j < i:\n",
    "        print(\"*\", end = \" \")\n",
    "        j += 1\n",
    "    print()\n",
    "i = 1\n",
    "while(i <= n):\n",
    "    j =1\n",
    "    while(j <= n):\n",
    "        if(j < i):\n",
    "            print(' ', end = ' ')\n",
    "        else:\n",
    "            print('*', end = ' ')\n",
    "        j = j + 1\n",
    "    i+=1\n",
    "    j = n\n",
    "    while j >= i:\n",
    "        print(\"*\", end = \" \")\n",
    "        j -= 1\n",
    "    print()    \n",
    "    \n",
    "#     i = 0\n",
    "# while i <= n :\n",
    "#     j = 0\n",
    "#     while j <= i:\n",
    "#         print(\"*\", end = \" \")\n",
    "#         j += 1\n",
    "#     print()\n",
    "#     i += 1\n",
    "# i = 1\n",
    "# while i <= n :\n",
    "#     j = n\n",
    "#     while j >= i:\n",
    "#         print(\"*\", end = \" \")\n",
    "#         j -= 1\n",
    "#     print()\n",
    "#     i += 1"
   ]
  },
  {
   "cell_type": "code",
   "execution_count": null,
   "id": "6e21fa4c",
   "metadata": {},
   "outputs": [],
   "source": [
    "#################################################################################3"
   ]
  },
  {
   "cell_type": "code",
   "execution_count": 579,
   "id": "6337e07e",
   "metadata": {},
   "outputs": [
    {
     "name": "stdout",
     "output_type": "stream",
     "text": [
      "5\n",
      "* \n",
      "* * \n",
      "*   * \n",
      "*     * \n",
      "* * * * * \n"
     ]
    }
   ],
   "source": [
    "n = int(input())\n",
    "i = 0\n",
    "\n",
    "while i < n:\n",
    "    j = 0\n",
    "    while j <= i:\n",
    "        if i==n-1 or j==0 or j==i:\n",
    "            print(\"*\",end=\" \")\n",
    "        else:\n",
    "            print(\" \",end=\" \")\n",
    "        j +=1\n",
    "    print()\n",
    "    i += 1"
   ]
  },
  {
   "cell_type": "code",
   "execution_count": 312,
   "id": "50028374",
   "metadata": {},
   "outputs": [
    {
     "name": "stdout",
     "output_type": "stream",
     "text": [
      "5\n",
      "* * * * * \n",
      "*     * \n",
      "*   * \n",
      "* * \n",
      "* \n"
     ]
    }
   ],
   "source": [
    "n = int(input())\n",
    "i = 1\n",
    "while i <= n :\n",
    "    j=i+1\n",
    "    \n",
    "    j = n\n",
    "    while j >= i:\n",
    "        if i==1 or j==0 or j==n or j==i:\n",
    "            print(\"*\",end=\" \")\n",
    "        else:\n",
    "            print(\" \",end=\" \")\n",
    "#         print(\"*\", end = \" \")\n",
    "        j-= 1\n",
    "    print()\n",
    "    i += 1"
   ]
  },
  {
   "cell_type": "code",
   "execution_count": 238,
   "id": "39d123c4",
   "metadata": {
    "scrolled": true
   },
   "outputs": [
    {
     "name": "stdout",
     "output_type": "stream",
     "text": [
      "5\n",
      "n 5\n",
      "j 5\n",
      "j 5 i 0 * j 4 i 0 * j 3 i 0 * j 2 i 0 * j 1 i 0 * j 0 i 0 * \n",
      "n 5\n",
      "j 5\n",
      "j 5 i 1 *       j 1 i 1 * \n",
      "n 5\n",
      "j 5\n",
      "j 5 i 2 *     j 2 i 2 * \n",
      "n 5\n",
      "j 5\n",
      "j 5 i 3 *   j 3 i 3 * \n",
      "n 5\n",
      "j 5\n",
      "j 5 i 4 * j 4 i 4 * \n",
      "n 5\n",
      "j 5\n",
      "j 5 i 5 * \n"
     ]
    }
   ],
   "source": [
    "n = int(input())\n",
    "i = 0\n",
    "while i <= n :\n",
    "    print(\"n\",n)\n",
    "    j = n\n",
    "    print(\"j\",j)\n",
    "    while j >= i:\n",
    "        if i==0 or j==0 or j==n or j==i:\n",
    "            print(\"j\",j,end=\" \")\n",
    "            print(\"i\",i,end=\" \")\n",
    "            print(\"*\",end=\" \")\n",
    "        else:\n",
    "            print(\" \",end=\" \")\n",
    "#         print(\"*\", end = \" \")\n",
    "        j-= 1\n",
    "    print()\n",
    "    i += 1"
   ]
  },
  {
   "cell_type": "code",
   "execution_count": 508,
   "id": "69cfc9fb",
   "metadata": {
    "scrolled": false
   },
   "outputs": [
    {
     "name": "stdout",
     "output_type": "stream",
     "text": [
      "5\n",
      "        * \n",
      "      * * \n",
      "    *   * \n",
      "  *     * \n",
      "* * * * * \n"
     ]
    }
   ],
   "source": [
    "n = int(input())\n",
    "i = 1\n",
    "while(i <= n):\n",
    "    j = 1\n",
    "    while j <= n:\n",
    "        if i==n or j==n or i+j==n+1:\n",
    "            print('*',end=\" \")\n",
    "        else:\n",
    "            print(' ', end = ' ')\n",
    "        j+=1\n",
    "    i+=1\n",
    "    print()"
   ]
  },
  {
   "cell_type": "code",
   "execution_count": 318,
   "id": "1b2aedec",
   "metadata": {},
   "outputs": [
    {
     "name": "stdout",
     "output_type": "stream",
     "text": [
      "5\n",
      "* * * * * \n",
      "  * * * * \n",
      "    * * * \n",
      "      * * \n",
      "        * \n"
     ]
    }
   ],
   "source": [
    "n = int(input())\n",
    "i = 1\n",
    "while(i <= n):\n",
    "#     print(\"i\",i,=\" \")\n",
    "#     print(\"n\",n,end=\" \")\n",
    "    j = 1\n",
    "    while(j <= n):\n",
    "        if(j < i):\n",
    "            print(' ', end = ' ')\n",
    "        else:\n",
    "            print('*', end = ' ')\n",
    "        j = j + 1\n",
    "    i = i + 1\n",
    "    j = n\n",
    "    print()"
   ]
  },
  {
   "cell_type": "code",
   "execution_count": 484,
   "id": "32090fe6",
   "metadata": {
    "scrolled": true
   },
   "outputs": [
    {
     "name": "stdout",
     "output_type": "stream",
     "text": [
      "5\n",
      "* * * * * \n",
      "  *     * \n",
      "    *   * \n",
      "      * * \n",
      "        * \n"
     ]
    }
   ],
   "source": [
    "n = int(input())\n",
    "i = 1\n",
    "while i <= n:\n",
    "    j = 1\n",
    "    while j <= n:\n",
    "#         if(j < i):\n",
    "#             print(' ', end = ' ')\n",
    "        if i==1 or  j==i or j==n:\n",
    "            print('*',end=\" \")\n",
    "        else:\n",
    "            print(' ', end = ' ')\n",
    "        j+=1\n",
    "    i+=1\n",
    "    print()"
   ]
  },
  {
   "cell_type": "code",
   "execution_count": null,
   "id": "a09c6195",
   "metadata": {},
   "outputs": [],
   "source": [
    "##################################################################################################"
   ]
  },
  {
   "cell_type": "code",
   "execution_count": 581,
   "id": "dd207e96",
   "metadata": {},
   "outputs": [
    {
     "name": "stdout",
     "output_type": "stream",
     "text": [
      "5\n",
      "        * \n",
      "      * * \n",
      "    * * * \n",
      "  * * * * \n",
      "* * * * * \n"
     ]
    }
   ],
   "source": [
    "n = int(input())\n",
    "i=0\n",
    "while i < n:\n",
    "    j=n-i-1\n",
    "    while j>0:\n",
    "        print(\" \", end = \" \")\n",
    "        j=j-1\n",
    "    j+=1\n",
    "    while j>0:\n",
    "        print(\"*\",end=\" \")\n",
    "        j=j-1\n",
    "    i+=1\n",
    "    j = 1\n",
    "    while j < i:\n",
    "        print(\"*\", end = \" \")\n",
    "        j += 1\n",
    "    print()"
   ]
  },
  {
   "cell_type": "code",
   "execution_count": 272,
   "id": "30163c77",
   "metadata": {},
   "outputs": [
    {
     "name": "stdout",
     "output_type": "stream",
     "text": [
      "5\n",
      "* * * * * * * * * \n",
      "  * * * * * * * \n",
      "    * * * * * \n",
      "      * * * \n",
      "        * \n"
     ]
    }
   ],
   "source": [
    "n = int(input())\n",
    "i = 1\n",
    "while(i <= n):\n",
    "#     print(\"i\",i,=\" \")\n",
    "#     print(\"n\",n,end=\" \")\n",
    "    j = 1\n",
    "    while(j <= n):\n",
    "        if(j < i):\n",
    "            print(' ', end = ' ')\n",
    "        else:\n",
    "            print('*', end = ' ')\n",
    "        j = j + 1\n",
    "    i = i + 1\n",
    "    j = n\n",
    "    while j >= i:\n",
    "        print(\"*\", end = \" \")\n",
    "        j -= 1\n",
    "    print()"
   ]
  },
  {
   "cell_type": "code",
   "execution_count": 557,
   "id": "02abda81",
   "metadata": {
    "scrolled": true
   },
   "outputs": [
    {
     "name": "stdout",
     "output_type": "stream",
     "text": [
      "5\n",
      "* \n",
      "* * \n",
      "*   * \n",
      "*     * \n",
      "* * * * * \n"
     ]
    }
   ],
   "source": [
    "n = int(input())\n",
    "i = 0\n",
    "while i < n:\n",
    "    j = 0\n",
    "    while j <= i:\n",
    "        if i==n-1 or j==0 or j==i:\n",
    "            print(\"*\",end=\" \")\n",
    "        else:\n",
    "            print(\" \",end=\" \")\n",
    "        j +=1\n",
    "    print()\n",
    "    i += 1"
   ]
  },
  {
   "cell_type": "code",
   "execution_count": 496,
   "id": "4554a4a8",
   "metadata": {
    "scrolled": false
   },
   "outputs": [
    {
     "name": "stdout",
     "output_type": "stream",
     "text": [
      "5\n",
      "* * * * * \n",
      "* * *   * \n",
      "* * *   * \n",
      "*     * * \n",
      "* * * * * \n"
     ]
    }
   ],
   "source": [
    "n = int(input())\n",
    "i = 1\n",
    "while(i <= n):\n",
    "    j = 1\n",
    "    while j <= n:\n",
    "#         if(j < i):\n",
    "#             print(' ', end = ' ')\n",
    "        if j==1 or j==i or j==n  or i==n or i==1 or i==j or i+j==n:\n",
    "            print('*',end=\" \")\n",
    "        else:\n",
    "            print(' ', end = ' ')\n",
    "        j = j + 1\n",
    "    i = i + 1\n",
    "    print()"
   ]
  },
  {
   "cell_type": "code",
   "execution_count": 534,
   "id": "99ebfe13",
   "metadata": {
    "scrolled": false
   },
   "outputs": [
    {
     "name": "stdout",
     "output_type": "stream",
     "text": [
      "5\n",
      "* * * * * \n",
      "* *     * \n",
      "*   *   * \n",
      "*     * * \n",
      "* * * * * \n"
     ]
    }
   ],
   "source": [
    "n = int(input())\n",
    "i = 1\n",
    "while(i <= n):\n",
    "    j = 1\n",
    "    while j <= n:\n",
    "#         if(j < i):\n",
    "#             print(' ', end = ' ')\n",
    "        if j==1 or j==i or j==n  or i==n or i==1 or i==j :\n",
    "            print('*',end=\" \")\n",
    "        else:\n",
    "            print(' ', end = ' ')\n",
    "        j = j + 1\n",
    "    i = i + 1\n",
    "    print()"
   ]
  },
  {
   "cell_type": "code",
   "execution_count": 536,
   "id": "7c3be979",
   "metadata": {
    "scrolled": true
   },
   "outputs": [
    {
     "name": "stdout",
     "output_type": "stream",
     "text": [
      "6\n",
      "* * * * * * \n",
      "* *     * * \n",
      "*   * *   * \n",
      "*   * *   * \n",
      "* *     * * \n",
      "* * * * * * \n"
     ]
    }
   ],
   "source": [
    "n = int(input())\n",
    "i = 1\n",
    "while(i <= n):\n",
    "    j = 1\n",
    "    while j <= n:\n",
    "#         if(j < i):\n",
    "#             print(' ', end = ' ')\n",
    "        if j==1 or j==i or j==n  or i==n or i==1 or i==j or i+j==n+1:\n",
    "            print('*',end=\" \")\n",
    "        else:\n",
    "            print(' ', end = ' ')\n",
    "        j = j + 1\n",
    "    i = i + 1\n",
    "    print()"
   ]
  },
  {
   "cell_type": "code",
   "execution_count": 539,
   "id": "4d34240a",
   "metadata": {
    "scrolled": true
   },
   "outputs": [
    {
     "name": "stdout",
     "output_type": "stream",
     "text": [
      "5\n",
      "* * * * * \n",
      "*       * \n",
      "*       * \n",
      "*       * \n",
      "* * * * * \n"
     ]
    }
   ],
   "source": [
    "n = int(input())\n",
    "i = 1\n",
    "while(i <= n):\n",
    "    j = 1\n",
    "    while j <= n:\n",
    "#         if(j < i):\n",
    "#             print(' ', end = ' ')\n",
    "        if j==1 or  j==n  or i==n or i==1  :\n",
    "#             i==1 or  j==i or j==n:\n",
    "            print('*',end=\" \")\n",
    "        else:\n",
    "            print(' ', end = ' ')\n",
    "        j = j + 1\n",
    "    i = i + 1\n",
    "    print()"
   ]
  },
  {
   "cell_type": "code",
   "execution_count": 543,
   "id": "4c9429a9",
   "metadata": {},
   "outputs": [
    {
     "name": "stdout",
     "output_type": "stream",
     "text": [
      "7\n",
      "*             \n",
      "  *           \n",
      "    *         \n",
      "      *       \n",
      "        *     \n",
      "          *   \n",
      "            * \n"
     ]
    }
   ],
   "source": [
    "n = int(input())\n",
    "i = 1\n",
    "while(i <= n):\n",
    "    j = 1\n",
    "    while j <= n:\n",
    "#         if(j < i):\n",
    "#             print(' ', end = ' ')\n",
    "        if j==i or  i==j:\n",
    "#             i==1 or  j==i or j==n:\n",
    "            print('*',end=\" \")\n",
    "        else:\n",
    "            print(' ', end = ' ')\n",
    "        j = j + 1\n",
    "    i = i + 1\n",
    "    print()"
   ]
  },
  {
   "cell_type": "code",
   "execution_count": 546,
   "id": "b1a2fe94",
   "metadata": {
    "scrolled": true
   },
   "outputs": [
    {
     "name": "stdout",
     "output_type": "stream",
     "text": [
      "5\n",
      "*       * \n",
      "* *     * \n",
      "*   *   * \n",
      "*     * * \n",
      "*       * \n"
     ]
    }
   ],
   "source": [
    "n = int(input())\n",
    "i = 1\n",
    "while(i <= n):\n",
    "    j = 1\n",
    "    while j <= n:\n",
    "#         if(j < i):\n",
    "#             print(' ', end = ' ')\n",
    "        if j==1 or j==i or j==n  :\n",
    "            print('*',end=\" \")\n",
    "        else:\n",
    "            print(' ', end = ' ')\n",
    "        j = j + 1\n",
    "    i = i + 1\n",
    "    print()\n",
    "    "
   ]
  },
  {
   "cell_type": "code",
   "execution_count": null,
   "id": "75ffff5a",
   "metadata": {},
   "outputs": [],
   "source": [
    "################################################"
   ]
  },
  {
   "cell_type": "code",
   "execution_count": 511,
   "id": "249502b4",
   "metadata": {},
   "outputs": [
    {
     "name": "stdout",
     "output_type": "stream",
     "text": [
      "enter num=5\n",
      "        * \n",
      "      *   * \n",
      "    *       * \n",
      "  *           * \n",
      "* * * * * * * * * \n"
     ]
    }
   ],
   "source": [
    "n=int(input(\"enter num=\"))\n",
    "for i in range(n):\n",
    "    for j in range(n-1):\n",
    "        if i==n-1 or  i+j==n-1:\n",
    "            print(\"*\",end=\" \")\n",
    "        else:\n",
    "              print(' ',end=\" \")\n",
    "    for j in range(i+1):\n",
    "        if i==n-1 or  j==i:\n",
    "            print(\"*\",end=\" \")\n",
    "        else:\n",
    "            print(\" \",end=\" \")\n",
    "    print()"
   ]
  },
  {
   "cell_type": "code",
   "execution_count": 161,
   "id": "fe7b22a1",
   "metadata": {},
   "outputs": [
    {
     "name": "stdout",
     "output_type": "stream",
     "text": [
      "enter num=5\n",
      "  * * * * * * * * * \n",
      "    *           * \n",
      "      *       * \n",
      "        *   * \n",
      "          * \n"
     ]
    }
   ],
   "source": [
    "n=int(input(\"enter num=\"))\n",
    "i=0\n",
    "while i<n:\n",
    "    for i in range(n):\n",
    "        for j in range(i+1):\n",
    "            print(' ',end=\" \")\n",
    "        for j in range(i,n-1):\n",
    "            if i==0 or i==j:\n",
    "                print('*',end=\" \")\n",
    "            else:\n",
    "                print(\" \",end=\" \")\n",
    "        for j in range(i,n):\n",
    "            if i==0 or j==n-1:\n",
    "                print(\"*\",end=\" \")\n",
    "            else:\n",
    "                print(\" \",end=\" \")  \n",
    "        i=i+1\n",
    "        print()"
   ]
  },
  {
   "cell_type": "code",
   "execution_count": 17,
   "id": "42c20759",
   "metadata": {},
   "outputs": [
    {
     "name": "stdout",
     "output_type": "stream",
     "text": [
      "enter num=5\n",
      "* * * * * \n",
      "*       * \n",
      "*       * \n",
      "*       * \n",
      "* * * * * \n"
     ]
    }
   ],
   "source": [
    "n=int(input(\"enter num=\"))\n",
    "i=0\n",
    "while i<n:\n",
    "    for i in range(n):\n",
    "        for j in range(n):\n",
    "            if i==0 or i==n-1 or j==0 or j==n-1:\n",
    "                print(\"*\",end=\" \")\n",
    "            else:\n",
    "                  print(' ',end=\" \")\n",
    "        i=i+1\n",
    "        print()"
   ]
  },
  {
   "cell_type": "code",
   "execution_count": 19,
   "id": "a54bb1ee",
   "metadata": {},
   "outputs": [
    {
     "name": "stdout",
     "output_type": "stream",
     "text": [
      "enter num=5\n",
      "* \n",
      "* * \n",
      "*   * \n",
      "*     * \n",
      "* * * * * \n"
     ]
    }
   ],
   "source": [
    "n=int(input(\"enter num=\"))\n",
    "i=0\n",
    "while i<n:\n",
    "    for i in range(n):\n",
    "#     print(i,n)\n",
    "        for j in range(i+1):\n",
    "#         print(i)\n",
    "            if i==n-1 or j==0 or j==i:\n",
    "                print(\"*\",end=\" \")\n",
    "            else:\n",
    "                print(\" \",end=\" \")\n",
    "        i=i+1\n",
    "        print()"
   ]
  },
  {
   "cell_type": "code",
   "execution_count": 20,
   "id": "a32d7334",
   "metadata": {},
   "outputs": [
    {
     "name": "stdout",
     "output_type": "stream",
     "text": [
      "enter num=5\n",
      "* * * * * \n",
      "*     * \n",
      "*   * \n",
      "* * \n",
      "* \n"
     ]
    }
   ],
   "source": [
    "n=int(input(\"enter num=\"))\n",
    "i=0\n",
    "while i<n:\n",
    "    for i in range(n):\n",
    "        for j in range(i,n):\n",
    "            if i==0 or j==i or j==n-1:\n",
    "                print(\"*\",end=\" \")\n",
    "            else:\n",
    "                print(\" \",end=\" \")\n",
    "        i=i+1\n",
    "        print()"
   ]
  },
  {
   "cell_type": "code",
   "execution_count": 21,
   "id": "972b9115",
   "metadata": {},
   "outputs": [
    {
     "name": "stdout",
     "output_type": "stream",
     "text": [
      "enter num=5\n",
      "  * * * * * \n",
      "    *     * \n",
      "      *   * \n",
      "        * * \n",
      "          * \n"
     ]
    }
   ],
   "source": [
    "n=int(input(\"enter num=\"))\n",
    "i=0\n",
    "while i<n:\n",
    "    for i in range(n):\n",
    "        for j in range(i+1):\n",
    "            print(' ',end=\" \")\n",
    "        for j in range(i,n):\n",
    "            if i==0 or j==n-1 or i==j:\n",
    "                print('*',end=\" \")\n",
    "            else:\n",
    "                print(\" \",end=\" \")\n",
    "        i=i+1\n",
    "        print()"
   ]
  },
  {
   "cell_type": "code",
   "execution_count": 22,
   "id": "b086b079",
   "metadata": {
    "scrolled": true
   },
   "outputs": [
    {
     "name": "stdout",
     "output_type": "stream",
     "text": [
      "enter num=5\n",
      "        * \n",
      "      * * \n",
      "    *   * \n",
      "  *     * \n",
      "* * * * * \n"
     ]
    }
   ],
   "source": [
    "n=int(input(\"enter num=\"))\n",
    "i=0\n",
    "while i<n:\n",
    "    for i in range(n):\n",
    "        for j in range(n):\n",
    "            if i==n-1 or  j==n-1 or i+j==n-1:\n",
    "                print(\"*\",end=\" \")\n",
    "            else:\n",
    "                  print(' ',end=\" \")\n",
    "        i=i+1\n",
    "        print()"
   ]
  },
  {
   "cell_type": "code",
   "execution_count": 576,
   "id": "846e449c",
   "metadata": {},
   "outputs": [
    {
     "name": "stdout",
     "output_type": "stream",
     "text": [
      "enter num=5\n",
      "* * * * * \n",
      "*       * \n",
      "* *     * \n",
      "* * *   * \n",
      "* * * * * \n"
     ]
    }
   ],
   "source": [
    "n=int(input(\"enter num=\"))\n",
    "i=1\n",
    "while i<n:\n",
    "    for i in range(n):\n",
    "        for j in range(i):\n",
    "            print(\"*\",end=\" \")\n",
    "        for j in range(i,n):\n",
    "            if i==0 or j==n-1:\n",
    "                print(\"*\",end=\" \")\n",
    "            else:\n",
    "                print(\" \",end=\" \")\n",
    "        i=i+1\n",
    "        print()"
   ]
  },
  {
   "cell_type": "code",
   "execution_count": null,
   "id": "9eefcd32",
   "metadata": {},
   "outputs": [],
   "source": []
  },
  {
   "cell_type": "code",
   "execution_count": 25,
   "id": "8f2e4047",
   "metadata": {},
   "outputs": [
    {
     "name": "stdout",
     "output_type": "stream",
     "text": [
      "enter num=5\n",
      "* \n",
      "* # \n",
      "* # # \n",
      "* # # # \n",
      "* * * * * \n"
     ]
    }
   ],
   "source": [
    "n=int(input(\"enter num=\"))\n",
    "i=0\n",
    "while i<n:\n",
    "    for i in range(n):\n",
    "        for j in range(i+1):\n",
    "            if j==0 or i==n-1:\n",
    "                print(\"*\",end=\" \")\n",
    "            else:\n",
    "                print(\"#\",end=\" \")\n",
    "        i=i+1\n",
    "        print()"
   ]
  },
  {
   "cell_type": "code",
   "execution_count": 27,
   "id": "4d23bcc8",
   "metadata": {},
   "outputs": [
    {
     "name": "stdout",
     "output_type": "stream",
     "text": [
      "enter num=5\n",
      "* * * * * * \n",
      "* #       * \n",
      "* # #     * \n",
      "* # # #   * \n",
      "* * * * * * \n"
     ]
    }
   ],
   "source": [
    "n=int(input(\"enter num=\"))\n",
    "i=0\n",
    "while i<n:\n",
    "    for i in range(n):\n",
    "        for j in range(i+1):\n",
    "            if j==0 or i==n-1:\n",
    "                print(\"*\",end=\" \")\n",
    "            else:\n",
    "                print(\"#\",end=\" \")\n",
    "        for j in range(i,n):\n",
    "            if i==0 or j==n-1:\n",
    "                print(\"*\",end=\" \")\n",
    "            else:\n",
    "                print(\" \",end=\" \")\n",
    "        i+=1\n",
    "        print()"
   ]
  },
  {
   "cell_type": "code",
   "execution_count": 28,
   "id": "fe8fc3b2",
   "metadata": {
    "scrolled": true
   },
   "outputs": [
    {
     "name": "stdout",
     "output_type": "stream",
     "text": [
      "enter num=5\n",
      "* * * * * \n",
      "* *     * \n",
      "*   *   * \n",
      "*     * * \n",
      "* * * * * \n"
     ]
    }
   ],
   "source": [
    "n=int(input(\"enter num=\"))\n",
    "i=0\n",
    "while i<n:\n",
    "    for i in range(n):\n",
    "        for j in range(n):\n",
    "            if i==0 or i==n-1 or i==j or j==0 or j==n-1:\n",
    "                print(\"*\",end=\" \")\n",
    "            else:\n",
    "                  print(' ',end=\" \")\n",
    "        i=i+1\n",
    "        print()"
   ]
  },
  {
   "cell_type": "code",
   "execution_count": 29,
   "id": "b7c3f398",
   "metadata": {
    "scrolled": true
   },
   "outputs": [
    {
     "name": "stdout",
     "output_type": "stream",
     "text": [
      "enter num=5\n",
      "* * * * * \n",
      "* *   * * \n",
      "*   *   * \n",
      "* *   * * \n",
      "* * * * * \n"
     ]
    }
   ],
   "source": [
    "n=int(input(\"enter num=\"))\n",
    "i=0\n",
    "while i<n:\n",
    "    for i in range(n):\n",
    "        for j in range(n):\n",
    "            if i==0 or i==n-1 or i==j or j==0 or j==n-1 or i+j==n-1:\n",
    "                print(\"*\",end=\" \")\n",
    "            else:\n",
    "                  print(' ',end=\" \")\n",
    "        i=i+1\n",
    "        print()"
   ]
  },
  {
   "cell_type": "code",
   "execution_count": null,
   "id": "10b5f227",
   "metadata": {},
   "outputs": [],
   "source": []
  },
  {
   "cell_type": "code",
   "execution_count": 30,
   "id": "383fadda",
   "metadata": {},
   "outputs": [
    {
     "name": "stdout",
     "output_type": "stream",
     "text": [
      "enter num=5\n",
      "* * * * * \n",
      "* *     * \n",
      "* * *   * \n",
      "* * * * * \n",
      "* * * * * \n"
     ]
    }
   ],
   "source": [
    "n=int(input(\"enter num=\"))\n",
    "i=0\n",
    "while i<n:\n",
    "    for i in range(n):\n",
    "        for j in range(i):\n",
    "            print(\"*\",end=\" \")\n",
    "        for j in range(i,n):\n",
    "            if i==0 or j==i or j==n-1:\n",
    "                print(\"*\",end=\" \")\n",
    "            else:\n",
    "                print(\" \",end=\" \")\n",
    "        i=i+1\n",
    "        print()"
   ]
  },
  {
   "cell_type": "code",
   "execution_count": 31,
   "id": "55f5c604",
   "metadata": {},
   "outputs": [
    {
     "name": "stdout",
     "output_type": "stream",
     "text": [
      "enter num=5\n",
      "          * \n",
      "        * * \n",
      "      * * * \n",
      "    * * * * \n",
      "  * * * * * \n",
      "    * * * * \n",
      "      * * * \n",
      "        * * \n",
      "          * \n"
     ]
    }
   ],
   "source": [
    "n=int(input(\"enter num=\"))\n",
    "i=0\n",
    "while i<n:\n",
    "    for i in range(n-1):\n",
    "        for j in range(i,n):\n",
    "            print(' ',end=\" \")\n",
    "        for j in range(i+1):\n",
    "            print('*',end=\" \")\n",
    "        print()\n",
    "    for i in range(n):\n",
    "        for j in range(i+1):\n",
    "            print(' ',end=\" \")\n",
    "        for j in range(i,n):\n",
    "            print('*',end=\" \")\n",
    "        i+=1\n",
    "        print()"
   ]
  },
  {
   "cell_type": "code",
   "execution_count": 32,
   "id": "eef7ea35",
   "metadata": {},
   "outputs": [
    {
     "name": "stdout",
     "output_type": "stream",
     "text": [
      "enter num=5\n",
      "* \n",
      "* * \n",
      "* * * \n",
      "* * * * \n",
      "* * * * * \n",
      "* * * * \n",
      "* * * \n",
      "* * \n",
      "* \n"
     ]
    }
   ],
   "source": [
    "n=int(input(\"enter num=\"))\n",
    "i=0\n",
    "while i<n:\n",
    "    for i in range(n-1):\n",
    "        for j in range(i+1):\n",
    "            print(\"*\",end=\" \")\n",
    "        print()\n",
    "    for i in range(n):\n",
    "        for j in range(i,n):\n",
    "            print('*',end=\" \")\n",
    "        i+=1\n",
    "        print()"
   ]
  },
  {
   "cell_type": "code",
   "execution_count": 33,
   "id": "229777dc",
   "metadata": {},
   "outputs": [
    {
     "name": "stdout",
     "output_type": "stream",
     "text": [
      "enter num=5\n",
      "          * \n",
      "        * * \n",
      "      * * * \n",
      "    * * * * \n",
      "  * * * * * \n",
      "* * * * * * \n",
      "* \n",
      "* * \n",
      "* * * \n",
      "* * * * \n",
      "* * * * * \n",
      "* * * * * * \n",
      "  * * * * * \n",
      "    * * * * \n",
      "      * * * \n",
      "        * * \n",
      "          * \n",
      "* * * * * \n",
      "* * * * \n",
      "* * * \n",
      "* * \n",
      "* \n"
     ]
    }
   ],
   "source": [
    "n=int(input(\"enter num=\"))\n",
    "i=0\n",
    "while i<n:\n",
    "    for i in range(n+1):\n",
    "        for j in range(i,n):\n",
    "            print(' ',end=\" \")\n",
    "        for j in range(i+1):\n",
    "            print('*',end=\" \")\n",
    "        print()\n",
    "    for i in range(n+1):\n",
    "        for j in range(i+1):\n",
    "            print(\"*\",end=\" \")\n",
    "        print()\n",
    "    for i in range(n):\n",
    "        for j in range(i+1):\n",
    "            print(' ',end=\" \")\n",
    "        for j in range(i,n):\n",
    "            print('*',end=\" \")\n",
    "        print()\n",
    "    for i in range(n):\n",
    "        for j in range(i,n):\n",
    "            print('*',end=\" \")\n",
    "        i+=1\n",
    "        print()\n",
    "\n"
   ]
  },
  {
   "cell_type": "code",
   "execution_count": 34,
   "id": "29a1372b",
   "metadata": {},
   "outputs": [
    {
     "name": "stdout",
     "output_type": "stream",
     "text": [
      "enter num=5\n",
      "* \n",
      "* * \n",
      "* * * \n",
      "* * * * \n",
      "* * * * * \n"
     ]
    }
   ],
   "source": [
    "n=int(input(\"enter num=\"))\n",
    "i=0\n",
    "while i<n:\n",
    "    for i in range(n):\n",
    "        for j in range(i+1):\n",
    "            print(\"*\",end=\" \")\n",
    "        i+=1\n",
    "        print()"
   ]
  },
  {
   "cell_type": "code",
   "execution_count": null,
   "id": "8bad7e02",
   "metadata": {},
   "outputs": [],
   "source": []
  }
 ],
 "metadata": {
  "kernelspec": {
   "display_name": "Python 3 (ipykernel)",
   "language": "python",
   "name": "python3"
  },
  "language_info": {
   "codemirror_mode": {
    "name": "ipython",
    "version": 3
   },
   "file_extension": ".py",
   "mimetype": "text/x-python",
   "name": "python",
   "nbconvert_exporter": "python",
   "pygments_lexer": "ipython3",
   "version": "3.9.7"
  }
 },
 "nbformat": 4,
 "nbformat_minor": 5
}
