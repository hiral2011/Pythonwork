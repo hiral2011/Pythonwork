{
 "cells": [
  {
   "cell_type": "code",
   "execution_count": null,
   "id": "bcf74653",
   "metadata": {},
   "outputs": [],
   "source": [
    "#1. Write a Python program to print all natural numbers from 1 to n. - using for loop"
   ]
  },
  {
   "cell_type": "code",
   "execution_count": 40,
   "id": "5873b8e2",
   "metadata": {},
   "outputs": [
    {
     "name": "stdout",
     "output_type": "stream",
     "text": [
      "enter num =5\n",
      "1\n",
      "2\n",
      "3\n",
      "4\n",
      "5\n"
     ]
    }
   ],
   "source": [
    "n = int(input('enter num ='))\n",
    "for i in range(1,n+1):\n",
    "    print(i)\n",
    "        "
   ]
  },
  {
   "cell_type": "code",
   "execution_count": null,
   "id": "2e162d20",
   "metadata": {},
   "outputs": [],
   "source": [
    "while"
   ]
  },
  {
   "cell_type": "code",
   "execution_count": 41,
   "id": "abd20e15",
   "metadata": {},
   "outputs": [
    {
     "name": "stdout",
     "output_type": "stream",
     "text": [
      "enter num =5\n",
      "1\n",
      "2\n",
      "3\n",
      "4\n",
      "5\n"
     ]
    }
   ],
   "source": [
    "n = int(input('enter num ='))\n",
    "i=1\n",
    "while i <= n:\n",
    "    print(i)\n",
    "    i=i+1\n",
    "        "
   ]
  },
  {
   "cell_type": "code",
   "execution_count": null,
   "id": "74721691",
   "metadata": {},
   "outputs": [],
   "source": [
    "#2. Write a Python program to print all natural numbers in reverse (from n to 1)."
   ]
  },
  {
   "cell_type": "code",
   "execution_count": 43,
   "id": "9e827826",
   "metadata": {},
   "outputs": [
    {
     "name": "stdout",
     "output_type": "stream",
     "text": [
      "enter num =8\n",
      "8 7 6 5 4 3 2 1 "
     ]
    }
   ],
   "source": [
    "n = int(input('enter num ='))\n",
    "for i in range(n,0,-1):\n",
    "    print(i,end=\" \")\n",
    "        "
   ]
  },
  {
   "cell_type": "code",
   "execution_count": null,
   "id": "ec9f372d",
   "metadata": {},
   "outputs": [],
   "source": [
    "while"
   ]
  },
  {
   "cell_type": "code",
   "execution_count": 42,
   "id": "9cf2ae26",
   "metadata": {},
   "outputs": [
    {
     "name": "stdout",
     "output_type": "stream",
     "text": [
      "enter num =8\n",
      "8 7 6 5 4 3 2 1 0 "
     ]
    }
   ],
   "source": [
    "n = int(input('enter num ='))\n",
    "i = n\n",
    "while i >= 0:\n",
    "    print(i,end=\" \")\n",
    "    i=i-1\n",
    "        "
   ]
  },
  {
   "cell_type": "code",
   "execution_count": null,
   "id": "c0de6818",
   "metadata": {},
   "outputs": [],
   "source": [
    "#3.) Write a Python program to print all alphabets from a to z. -"
   ]
  },
  {
   "cell_type": "code",
   "execution_count": 250,
   "id": "0f60b390",
   "metadata": {},
   "outputs": [
    {
     "name": "stdout",
     "output_type": "stream",
     "text": [
      "A B C D E F G H I J K L M N O P Q R S T U V W X Y "
     ]
    }
   ],
   "source": [
    "for i in range(65,90):\n",
    "    print(chr(i),end=' ')\n"
   ]
  },
  {
   "cell_type": "code",
   "execution_count": 51,
   "id": "98f569b4",
   "metadata": {},
   "outputs": [
    {
     "name": "stdout",
     "output_type": "stream",
     "text": [
      "a b c d e f g h i j k l m n o p q r s t u v w x y z "
     ]
    }
   ],
   "source": [
    "a = \"abcdefghijklmnopqrstuvwxyz\"\n",
    "for i in a:\n",
    "    print(i,end=\" \")"
   ]
  },
  {
   "cell_type": "code",
   "execution_count": null,
   "id": "8db21cc2",
   "metadata": {},
   "outputs": [],
   "source": [
    "while"
   ]
  },
  {
   "cell_type": "code",
   "execution_count": 190,
   "id": "fb9d1af9",
   "metadata": {},
   "outputs": [
    {
     "name": "stdout",
     "output_type": "stream",
     "text": [
      "35\n",
      "# $ % & ' ( ) * + , - . / 0 1 2 3 4 5 6 7 8 9 : ; < = > ? @ A B C D E F G H I J K L M N O P Q R S T U V W X Y Z "
     ]
    }
   ],
   "source": [
    "n=int(input())\n",
    "while n<=90:\n",
    "    print(chr(n),end=\" \")\n",
    "    n=n+1\n",
    "    "
   ]
  },
  {
   "cell_type": "code",
   "execution_count": null,
   "id": "972fae80",
   "metadata": {},
   "outputs": [],
   "source": [
    "#4. Write a Python program to print all even numbers between 1 to 100. - "
   ]
  },
  {
   "cell_type": "code",
   "execution_count": 206,
   "id": "792af006",
   "metadata": {},
   "outputs": [
    {
     "name": "stdout",
     "output_type": "stream",
     "text": [
      "2 4 6 8 10 12 14 16 18 20 22 24 26 28 30 32 34 36 38 40 42 44 46 48 50 52 54 56 58 60 62 64 66 68 70 72 74 76 78 80 82 84 86 88 90 92 94 96 98 \n"
     ]
    }
   ],
   "source": [
    "printnum = range(1,100)\n",
    "for i in printnum:\n",
    "    if i%2==0:\n",
    "        print(i,end=' ')\n",
    "print()"
   ]
  },
  {
   "cell_type": "code",
   "execution_count": 255,
   "id": "7921003b",
   "metadata": {},
   "outputs": [
    {
     "name": "stdout",
     "output_type": "stream",
     "text": [
      "2 4 6 8 10 12 14 16 18 20 22 24 26 28 30 32 34 36 38 40 42 44 46 48 50 52 54 56 58 60 62 64 66 68 70 72 74 76 78 80 82 84 86 88 90 92 94 96 98 100 "
     ]
    }
   ],
   "source": [
    "# n=int(input())\n",
    "i = 1\n",
    "while (i<=100):\n",
    "    if i%2==0:\n",
    "        print(i,end=' ')\n",
    "    i=i+1\n",
    "  "
   ]
  },
  {
   "cell_type": "code",
   "execution_count": 194,
   "id": "a0ccd272",
   "metadata": {},
   "outputs": [],
   "source": [
    "#5. Write a Python program to print all odd number between 1 to 100.b"
   ]
  },
  {
   "cell_type": "code",
   "execution_count": 256,
   "id": "855b3271",
   "metadata": {},
   "outputs": [
    {
     "name": "stdout",
     "output_type": "stream",
     "text": [
      "1 3 5 7 9 11 13 15 17 19 21 23 25 27 29 31 33 35 37 39 41 43 45 47 49 51 53 55 57 59 61 63 65 67 69 71 73 75 77 79 81 83 85 87 89 91 93 95 97 99 "
     ]
    }
   ],
   "source": [
    "for i in range(1,100):\n",
    "    if i%2!=0:\n",
    "        print(i,end=\" \")"
   ]
  },
  {
   "cell_type": "code",
   "execution_count": 207,
   "id": "6a9f5dac",
   "metadata": {},
   "outputs": [
    {
     "name": "stdout",
     "output_type": "stream",
     "text": [
      "1 3 5 7 9 11 13 15 17 19 21 23 25 27 29 31 33 35 37 39 41 43 45 47 49 51 53 55 57 59 61 63 65 67 69 71 73 75 77 79 81 83 85 87 89 91 93 95 97 99 "
     ]
    }
   ],
   "source": [
    "i=0\n",
    "while i<100:\n",
    "    if i%2!=0:\n",
    "        print(i,end=' ')\n",
    "    i=i+1"
   ]
  },
  {
   "cell_type": "code",
   "execution_count": null,
   "id": "a5e03c8a",
   "metadata": {},
   "outputs": [],
   "source": []
  },
  {
   "cell_type": "code",
   "execution_count": null,
   "id": "3114f2eb",
   "metadata": {},
   "outputs": [],
   "source": [
    "#6) Write a Python program to find sum of all natural numbers between 1 to n.b"
   ]
  },
  {
   "cell_type": "code",
   "execution_count": null,
   "id": "6f4d989a",
   "metadata": {},
   "outputs": [],
   "source": [
    "for"
   ]
  },
  {
   "cell_type": "code",
   "execution_count": 356,
   "id": "4f90744a",
   "metadata": {},
   "outputs": [
    {
     "name": "stdout",
     "output_type": "stream",
     "text": [
      "Enter a number: 5\n",
      "The sum is 15\n"
     ]
    }
   ],
   "source": [
    "num = int(input(\"Enter a number: \"))\n",
    "sum1 = 0\n",
    "# use while loop to iterate un till zero \n",
    "for i in range(1,num+1):\n",
    "# while(num > 0): \n",
    "    if num <= num:  \n",
    "        sum1=sum1 + i  \n",
    "#     num -= 1  \n",
    "print(\"The sum is\",sum1)  "
   ]
  },
  {
   "cell_type": "code",
   "execution_count": null,
   "id": "f65fa25d",
   "metadata": {},
   "outputs": [],
   "source": [
    "while"
   ]
  },
  {
   "cell_type": "code",
   "execution_count": 124,
   "id": "96fb2867",
   "metadata": {},
   "outputs": [
    {
     "name": "stdout",
     "output_type": "stream",
     "text": [
      "enter num =5\n",
      "1\n",
      "3\n",
      "6\n",
      "10\n",
      "15\n"
     ]
    }
   ],
   "source": [
    "n = int(input('enter num ='))\n",
    "i=1\n",
    "sum10=0\n",
    "while i<=n:\n",
    "    #print(i)\n",
    "    sum10=sum10+i\n",
    "    i=i+1\n",
    "    print(sum10)\n",
    "        "
   ]
  },
  {
   "cell_type": "code",
   "execution_count": null,
   "id": "18ac2055",
   "metadata": {},
   "outputs": [],
   "source": [
    "#7)Write a Python program to find sum of all even numbers between 1 to n.\n"
   ]
  },
  {
   "cell_type": "code",
   "execution_count": null,
   "id": "6ad9dd8d",
   "metadata": {},
   "outputs": [],
   "source": [
    "for"
   ]
  },
  {
   "cell_type": "code",
   "execution_count": 268,
   "id": "c0a7fca3",
   "metadata": {},
   "outputs": [
    {
     "name": "stdout",
     "output_type": "stream",
     "text": [
      "20\n",
      "90\n"
     ]
    }
   ],
   "source": [
    "n = int(input())\n",
    "printnum = range(1,n)\n",
    "sum1 = 0\n",
    "for i in printnum:\n",
    "    if i%2==0:\n",
    "        sum1=sum1+i\n",
    "print(sum1)"
   ]
  },
  {
   "cell_type": "code",
   "execution_count": null,
   "id": "6d3931fc",
   "metadata": {},
   "outputs": [],
   "source": [
    "\n",
    "while"
   ]
  },
  {
   "cell_type": "code",
   "execution_count": 239,
   "id": "655f416c",
   "metadata": {},
   "outputs": [
    {
     "name": "stdout",
     "output_type": "stream",
     "text": [
      "enter num =20\n",
      "90\n"
     ]
    }
   ],
   "source": [
    "n = int(input('enter num ='))\n",
    "i=1\n",
    "sum10=0\n",
    "while i<n:\n",
    "    if i%2==0:    \n",
    "    #print(i)\n",
    "        sum10=sum10+i\n",
    "    i=i+1\n",
    "print(sum10)"
   ]
  },
  {
   "cell_type": "code",
   "execution_count": 270,
   "id": "8a9e273f",
   "metadata": {},
   "outputs": [
    {
     "name": "stdout",
     "output_type": "stream",
     "text": [
      "1 3 5 7 9 "
     ]
    }
   ],
   "source": [
    "num = range(1,10)\n",
    "for i in range(i+1):\n",
    "    if i%2!=0:\n",
    "        print(i,end=' ')\n",
    "  "
   ]
  },
  {
   "cell_type": "code",
   "execution_count": null,
   "id": "ee96b6e6",
   "metadata": {},
   "outputs": [],
   "source": [
    "#8. Write a Python program to find sum of all odd numbers between 1 to n."
   ]
  },
  {
   "cell_type": "code",
   "execution_count": null,
   "id": "1dc3f868",
   "metadata": {},
   "outputs": [],
   "source": [
    "for"
   ]
  },
  {
   "cell_type": "code",
   "execution_count": 357,
   "id": "75704d7f",
   "metadata": {},
   "outputs": [
    {
     "name": "stdout",
     "output_type": "stream",
     "text": [
      "enter num =20\n",
      "100\n"
     ]
    }
   ],
   "source": [
    "n = int(input('enter num ='))\n",
    "sum1 = 0\n",
    "for i in range(1,n):\n",
    "    if i%2!=0:\n",
    "        sum1=sum1+i\n",
    "print(sum1)"
   ]
  },
  {
   "cell_type": "code",
   "execution_count": null,
   "id": "1cbde08e",
   "metadata": {},
   "outputs": [],
   "source": [
    "while"
   ]
  },
  {
   "cell_type": "code",
   "execution_count": 360,
   "id": "4d210283",
   "metadata": {},
   "outputs": [
    {
     "name": "stdout",
     "output_type": "stream",
     "text": [
      "enter num =20\n",
      "100\n"
     ]
    }
   ],
   "source": [
    "n = int(input('enter num ='))\n",
    "i=1\n",
    "sum1=0\n",
    "while i<=n:\n",
    "    if i%2!=0:    \n",
    "    #print(i)\n",
    "        sum1=sum1+i\n",
    "    i=i+1\n",
    "print(sum1)"
   ]
  },
  {
   "cell_type": "code",
   "execution_count": null,
   "id": "6c26a121",
   "metadata": {},
   "outputs": [],
   "source": [
    "#9. Write a Python program to print multiplication table of any number."
   ]
  },
  {
   "cell_type": "code",
   "execution_count": 245,
   "id": "333cf7b2",
   "metadata": {},
   "outputs": [
    {
     "name": "stdout",
     "output_type": "stream",
     "text": [
      "6\n",
      "6 * 1 = 6\n",
      "6 * 2 = 12\n",
      "6 * 3 = 18\n",
      "6 * 4 = 24\n",
      "6 * 5 = 30\n",
      "6 * 6 = 36\n",
      "6 * 7 = 42\n",
      "6 * 8 = 48\n",
      "6 * 9 = 54\n",
      "6 * 10 = 60\n"
     ]
    }
   ],
   "source": [
    "n  = int(input())\n",
    "for i in range(1,11):\n",
    "    result = n*i\n",
    "    print(n,\"*\",i,\"=\",result)"
   ]
  },
  {
   "cell_type": "code",
   "execution_count": null,
   "id": "25e461f3",
   "metadata": {},
   "outputs": [],
   "source": [
    "while"
   ]
  },
  {
   "cell_type": "code",
   "execution_count": 271,
   "id": "a77bd7b2",
   "metadata": {},
   "outputs": [
    {
     "name": "stdout",
     "output_type": "stream",
     "text": [
      "11\n",
      "11 * 1 = 11\n",
      "11 * 2 = 22\n",
      "11 * 3 = 33\n",
      "11 * 4 = 44\n",
      "11 * 5 = 55\n",
      "11 * 6 = 66\n",
      "11 * 7 = 77\n",
      "11 * 8 = 88\n",
      "11 * 9 = 99\n",
      "11 * 10 = 110\n"
     ]
    }
   ],
   "source": [
    "n = int(input())\n",
    "i=1\n",
    "while i<=10:\n",
    "    print(n,'*',i,'=',n*i)\n",
    "    i=i+1\n",
    "    "
   ]
  },
  {
   "cell_type": "code",
   "execution_count": null,
   "id": "36575330",
   "metadata": {},
   "outputs": [],
   "source": [
    "#10)Write a Python program to count number of digits in a number."
   ]
  },
  {
   "cell_type": "code",
   "execution_count": 25,
   "id": "0933c886",
   "metadata": {},
   "outputs": [
    {
     "name": "stdout",
     "output_type": "stream",
     "text": [
      "Please Enter any Number: 124563589647856923\n",
      "\n",
      " Number of Digits in a Given Number =  18\n"
     ]
    }
   ],
   "source": [
    "Number = int(input(\"Please Enter any Number: \"))\n",
    "Count = 0\n",
    "for i in range(Number):\n",
    "    if Number<=0:\n",
    "        break\n",
    "#while(Number > 0):\n",
    "    #print(\"\\n Number of Digits in a Given Number = \",Number)\n",
    "    Number = Number//10\n",
    "    Count = Count + 1\n",
    "print(\"\\n Number of Digits in a Given Number = \",Count)"
   ]
  },
  {
   "cell_type": "code",
   "execution_count": 402,
   "id": "8e586a7d",
   "metadata": {},
   "outputs": [
    {
     "name": "stdout",
     "output_type": "stream",
     "text": [
      "Enter number:25896\n",
      "The number of digits in the number are: 5\n"
     ]
    }
   ],
   "source": [
    "n=int(input(\"Enter number:\"))\n",
    "count=0\n",
    "while(n>0):\n",
    "    count=count+1\n",
    "    n=n//10\n",
    "#     print(n)\n",
    "print(\"The number of digits in the number are:\",count)"
   ]
  },
  {
   "cell_type": "code",
   "execution_count": null,
   "id": "b6b8e66f",
   "metadata": {},
   "outputs": [],
   "source": [
    "# 11)Write a Python program to find first and last digit of a number."
   ]
  },
  {
   "cell_type": "code",
   "execution_count": null,
   "id": "647f3ec3",
   "metadata": {},
   "outputs": [],
   "source": []
  },
  {
   "cell_type": "code",
   "execution_count": 2,
   "id": "569a4178",
   "metadata": {
    "scrolled": true
   },
   "outputs": [
    {
     "name": "stdout",
     "output_type": "stream",
     "text": [
      "Enter a Number: \n",
      "233790\n",
      "last 0\n",
      "first 2\n"
     ]
    }
   ],
   "source": [
    "print(\"Enter a Number: \")\n",
    "num = int(input())\n",
    "\n",
    "count = 0\n",
    "while num!=0:\n",
    "    if count==0:\n",
    "        last = num%10\n",
    "        count = count+1\n",
    "        print(\"last\",last)\n",
    "    first = num%10\n",
    "    num = num//10\n",
    "print(\"first\",first)          \n"
   ]
  },
  {
   "cell_type": "code",
   "execution_count": null,
   "id": "4d1a21ae",
   "metadata": {},
   "outputs": [],
   "source": [
    "#12. Write a Python program to find sum of first and last digit of a number."
   ]
  },
  {
   "cell_type": "code",
   "execution_count": 46,
   "id": "ea90fb5d",
   "metadata": {
    "scrolled": true
   },
   "outputs": [
    {
     "name": "stdout",
     "output_type": "stream",
     "text": [
      "53\n",
      "\n",
      "Sum of first and last digit = 3\n"
     ]
    }
   ],
   "source": [
    "num = int(input())\n",
    "count = 0\n",
    "for i in range(1,num+1):\n",
    "# while num!=0:\n",
    "    if count==0:\n",
    "        last = num%10\n",
    "        count = count+1\n",
    "        sum1 = count+last\n",
    "    res = num%10\n",
    "    num = int(num//10)\n",
    "\n",
    "sum = res + last\n",
    "print(\"\\nSum of first and last digit =\", sum)"
   ]
  },
  {
   "cell_type": "code",
   "execution_count": 47,
   "id": "56a1b1db",
   "metadata": {},
   "outputs": [
    {
     "name": "stdout",
     "output_type": "stream",
     "text": [
      "4512\n",
      "6\n"
     ]
    }
   ],
   "source": [
    "num = int(input())\n",
    "count = 0\n",
    "while num!=0:\n",
    "    if count==0:\n",
    "        last = num%10\n",
    "        count = count+1\n",
    "        sum1 = count+last\n",
    "#         print(sum1)\n",
    "    res = num%10\n",
    "    num=int(num/10)\n",
    "sum = res+last\n",
    "print(sum)"
   ]
  },
  {
   "cell_type": "code",
   "execution_count": null,
   "id": "4834eb8a",
   "metadata": {},
   "outputs": [],
   "source": [
    "#13) Write a Python program to swap first and last digits of a number."
   ]
  },
  {
   "cell_type": "code",
   "execution_count": 48,
   "id": "666b0e10",
   "metadata": {},
   "outputs": [
    {
     "name": "stdout",
     "output_type": "stream",
     "text": [
      "Enter number:2154\n",
      "The number of digits in the number are: 4\n"
     ]
    }
   ],
   "source": [
    "n=int(input(\"Enter number:\"))\n",
    "count=0\n",
    "temp = 0\n",
    "while(n>0):\n",
    "    count=count+1\n",
    "    n=n//10\n",
    "#     print(n)\n",
    "print(\"The number of digits in the number are:\",count)"
   ]
  },
  {
   "cell_type": "code",
   "execution_count": 4,
   "id": "5965f549",
   "metadata": {},
   "outputs": [
    {
     "name": "stdout",
     "output_type": "stream",
     "text": [
      "0 7\n",
      "0 7\n",
      "0 7\n"
     ]
    }
   ],
   "source": [
    "l1 = [1, 5, 6]\n",
    "l2 = [0, 3, 7]\n",
    "for member_1 in l1:\n",
    "    for member_2 in l2:\n",
    "        if member_1 > member_2:\n",
    "            member_1, member_2 = member_2, member_1\n",
    "    print(member_1, member_2)"
   ]
  },
  {
   "cell_type": "code",
   "execution_count": 415,
   "id": "76a9b2bd",
   "metadata": {},
   "outputs": [
    {
     "name": "stdout",
     "output_type": "stream",
     "text": [
      "Enter the number of elements in list:2\n",
      "Enter element1:12\n",
      "Enter element2:14\n",
      "New list is:\n",
      "[14, 12]\n"
     ]
    }
   ],
   "source": [
    "'''a=[]\n",
    "n= int(input(\"Enter the number of elements in list:\"))\n",
    "for x in range(0,n):\n",
    "    element=int(input(\"Enter element\" + str(x+1) + \":\"))\n",
    "    a.append(element)\n",
    "temp=a[0]\n",
    "a[0]=a[n-1]\n",
    "a[n-1]=temp\n",
    "print(\"New list is:\")\n",
    "print(a)'''"
   ]
  },
  {
   "cell_type": "code",
   "execution_count": null,
   "id": "b550219c",
   "metadata": {},
   "outputs": [],
   "source": [
    "#14. Write a Python program to calculate sum of digits of a number."
   ]
  },
  {
   "cell_type": "code",
   "execution_count": 50,
   "id": "974afb14",
   "metadata": {},
   "outputs": [
    {
     "name": "stdout",
     "output_type": "stream",
     "text": [
      "1254\n",
      "12\n"
     ]
    }
   ],
   "source": [
    "num = int(input())\n",
    "# count = 0\n",
    "sum = 0\n",
    "sum1 = 0\n",
    "while num!=0:\n",
    "        last = num%10\n",
    "     #  count = count+1\n",
    "        sum1 += last\n",
    "        num = num//10\n",
    "print(sum1)"
   ]
  },
  {
   "cell_type": "code",
   "execution_count": 268,
   "id": "b33f1863",
   "metadata": {},
   "outputs": [
    {
     "name": "stdout",
     "output_type": "stream",
     "text": [
      "1254\n",
      "12\n"
     ]
    }
   ],
   "source": [
    "num = int(input())\n",
    "# count = 0\n",
    "# sum = 0\n",
    "sum1 = 0\n",
    "for i in range(0,num):\n",
    "# while num!=0:\n",
    "        last = num%10\n",
    "     #  count = count+1\n",
    "        sum1 += last\n",
    "        num = num//10\n",
    "print(sum1)"
   ]
  },
  {
   "cell_type": "code",
   "execution_count": 17,
   "id": "59cb26ac",
   "metadata": {},
   "outputs": [],
   "source": [
    "#15. Write a Python program to calculate product of digits of a number."
   ]
  },
  {
   "cell_type": "code",
   "execution_count": 271,
   "id": "cb459a58",
   "metadata": {},
   "outputs": [
    {
     "name": "stdout",
     "output_type": "stream",
     "text": [
      "2356\n",
      "180\n"
     ]
    }
   ],
   "source": [
    "num = int(input())\n",
    "mul = 1\n",
    "while num!=0:\n",
    "    last = num % 10\n",
    "    mul *= last\n",
    "    num = num//10\n",
    "print(mul)"
   ]
  },
  {
   "cell_type": "code",
   "execution_count": 97,
   "id": "441c85d2",
   "metadata": {},
   "outputs": [],
   "source": [
    "# num = int(input())\n",
    "# mul = 1\n",
    "# for i in range(num):\n",
    "#     last = num % 10\n",
    "#     print(last)\n",
    "#     mul *= num\n",
    "#     print(mul)\n",
    "#     num = num//10\n",
    "#     print(num)\n",
    "# print(mul)"
   ]
  },
  {
   "cell_type": "code",
   "execution_count": 294,
   "id": "4d8eb72e",
   "metadata": {},
   "outputs": [
    {
     "name": "stdout",
     "output_type": "stream",
     "text": [
      "enter a number2356\n",
      "0\n"
     ]
    }
   ],
   "source": [
    "num = int(input(\"enter a number\"))\n",
    "\n",
    "n = num\n",
    "product = 1\n",
    "for num in range(num):\n",
    "# while n != 0:\n",
    "    rem = n % 10\n",
    "    product = product * rem\n",
    "    n = n // 10\n",
    "print(product)"
   ]
  },
  {
   "cell_type": "code",
   "execution_count": null,
   "id": "8dc3b7f8",
   "metadata": {},
   "outputs": [],
   "source": [
    "#16. Write a Python program to enter a number and print its reverse."
   ]
  },
  {
   "cell_type": "code",
   "execution_count": 193,
   "id": "af7bf34d",
   "metadata": {
    "scrolled": true
   },
   "outputs": [
    {
     "name": "stdout",
     "output_type": "stream",
     "text": [
      "12546\n",
      "64521 "
     ]
    }
   ],
   "source": [
    "num = int(input())\n",
    "rev = 0\n",
    "while num != 0:\n",
    "    last = num % 10\n",
    "    rev = rev*10+last\n",
    "    num =num //10 \n",
    "print(rev ,end=\" \")\n"
   ]
  },
  {
   "cell_type": "code",
   "execution_count": null,
   "id": "31f7de3b",
   "metadata": {},
   "outputs": [],
   "source": [
    "#17. Write a Python program to check whether a number is palindrome or not."
   ]
  },
  {
   "cell_type": "code",
   "execution_count": 9,
   "id": "9d4f4cca",
   "metadata": {},
   "outputs": [
    {
     "name": "stdout",
     "output_type": "stream",
     "text": [
      "256\n",
      "652num is not pelindrom\n"
     ]
    }
   ],
   "source": [
    "num = int(input())\n",
    "rev = 0\n",
    "forword = num\n",
    "while num != 0:\n",
    "    last = num%10 \n",
    "    print(last,end=\"\")\n",
    "    rev = rev*10 + last\n",
    "#     print(\"rev\",rev)\n",
    "    num = num//10\n",
    "#     print(\"num\",num)\n",
    "    \n",
    "if rev == forword : \n",
    "    print(\"num is pelindrom\")\n",
    "else:\n",
    "    print(\"num is not pelindrom\")"
   ]
  },
  {
   "cell_type": "code",
   "execution_count": 107,
   "id": "436750bc",
   "metadata": {},
   "outputs": [],
   "source": [
    "#18. Write a Python program to find frequency of each digit in a given integer."
   ]
  },
  {
   "cell_type": "code",
   "execution_count": 23,
   "id": "01621207",
   "metadata": {
    "scrolled": true
   },
   "outputs": [
    {
     "name": "stdout",
     "output_type": "stream",
     "text": [
      "1122233366554478899\n",
      "0 -> 0\n",
      "1 -> 2\n",
      "2 -> 3\n",
      "3 -> 3\n",
      "4 -> 2\n",
      "5 -> 2\n",
      "6 -> 2\n",
      "7 -> 1\n",
      "8 -> 2\n",
      "9 -> 2\n"
     ]
    }
   ],
   "source": [
    "num = int(input())\n",
    "rev = 0\n",
    "l = [0,0,0,0,0,0,0,0,0,0]\n",
    "while num != 0:\n",
    "    last = num % 10\n",
    "    l[last] += 1\n",
    "    #print(last ,end=\" \")\n",
    "    num =num //10\n",
    "for i in range(0,10):\n",
    "    print(i,\"->\",l[i])\n",
    "    "
   ]
  },
  {
   "cell_type": "code",
   "execution_count": 306,
   "id": "06f54228",
   "metadata": {},
   "outputs": [
    {
     "name": "stdout",
     "output_type": "stream",
     "text": [
      "0254520\n",
      "0 -> 254515\n",
      "1 -> 0\n",
      "2 -> 2\n",
      "3 -> 0\n",
      "4 -> 1\n",
      "5 -> 2\n",
      "6 -> 0\n",
      "7 -> 0\n",
      "8 -> 0\n",
      "9 -> 0\n"
     ]
    }
   ],
   "source": [
    "num = int(input())\n",
    "rev = 0\n",
    "l = [0,0,0,0,0,0,0,0,0,0]\n",
    "for i in range(num):\n",
    "# while num != 0:\n",
    "    last = num % 10\n",
    "    l[last] += 1\n",
    "    #print(last ,end=\" \")\n",
    "    num =num //10\n",
    "for i in range(0,10):\n",
    "    print(i,\"->\",l[i])\n",
    "    "
   ]
  },
  {
   "cell_type": "code",
   "execution_count": null,
   "id": "41080b7e",
   "metadata": {},
   "outputs": [],
   "source": [
    "#19. Write a Python program to enter a number and print it in words."
   ]
  },
  {
   "cell_type": "code",
   "execution_count": null,
   "id": "7aa41478",
   "metadata": {},
   "outputs": [],
   "source": [
    "arr = ['zero','one','two','three','four','five','six','seven','eight','nine']\n",
    "if(n==0):\n",
    "    else:  \n",
    "        \n",
    "    small_ans = arr[n%10]\n",
    "    ans = number_2_word(int(n/10)) + small_ans + \" \"\n",
    "n = int(input())\n",
    "print(\"Number Entered was : \", n)\n",
    "print(\"Converted to word it becomes: \",end=\"\")\n",
    "print(number_2_word(n))"
   ]
  },
  {
   "cell_type": "code",
   "execution_count": 17,
   "id": "19470095",
   "metadata": {},
   "outputs": [
    {
     "name": "stdout",
     "output_type": "stream",
     "text": [
      "8\n",
      "eight\n"
     ]
    }
   ],
   "source": [
    "num = int(input())\n",
    "l1 =[\"zero\",\"one\",\"two\",\"three\",\"four\",\"five\",\"six\",\"seven\",\"eight\",\"nine\",\"ten\"]\n",
    "for i in range(0,num):\n",
    "    last=num%10\n",
    "print(l1[num])\n",
    "#     i+=1\n",
    "        \n",
    "#     print(i,l1)"
   ]
  },
  {
   "cell_type": "code",
   "execution_count": 81,
   "id": "b376228b",
   "metadata": {},
   "outputs": [
    {
     "name": "stdout",
     "output_type": "stream",
     "text": [
      "1452\n",
      "one four five two "
     ]
    }
   ],
   "source": [
    "num = int(input())\n",
    "rev=0\n",
    "l1 =[\"zero\",\"one\",\"two\",\"three\",\"four\",\"five\",\"six\",\"seven\",\"eight\",\"nine\",\"ten\"]\n",
    "while num>0:\n",
    "    last = num % 10\n",
    "#     print(\"last\",last)\n",
    "    rev = rev*10+last\n",
    "#     print(\"rev\",rev)\n",
    "    num =num //10 \n",
    "# print(rev ,end=\" \")\n",
    "while rev>0:\n",
    "#     print(\"in while\")\n",
    "    last1=rev%10\n",
    "    rev=rev//10\n",
    "    print(l1[last1],end=\" \")\n",
    "\n"
   ]
  },
  {
   "cell_type": "code",
   "execution_count": 107,
   "id": "f9f2c223",
   "metadata": {},
   "outputs": [
    {
     "name": "stdout",
     "output_type": "stream",
     "text": [
      "1452\n",
      "one four five two   "
     ]
    }
   ],
   "source": [
    "num = int(input())\n",
    "l1 =[\" \",\"zero\",\"one\",\"two\",\"three\",\"four\",\"five\",\"six\",\"seven\",\"eight\",\"nine\",\"ten\"]\n",
    "nume_to_str=\"\"\n",
    "while num>0:\n",
    "    last=num%10\n",
    "    num=num//10\n",
    "    nume_to_str=l1[last+1]+l1[0]+nume_to_str\n",
    "print(nume_to_str,end=\"  \")\n"
   ]
  },
  {
   "cell_type": "code",
   "execution_count": null,
   "id": "befceb66",
   "metadata": {},
   "outputs": [],
   "source": [
    "#20. Write a Python program to print all AScII character with their values."
   ]
  },
  {
   "cell_type": "code",
   "execution_count": 30,
   "id": "b7cd9e5c",
   "metadata": {},
   "outputs": [
    {
     "name": "stdout",
     "output_type": "stream",
     "text": [
      "Enter a Character: abcvd\n",
      "\n",
      "Invalid Input!\n"
     ]
    }
   ],
   "source": [
    "print(\"Enter a Character: \", end=\"\")\n",
    "ch = input()\n",
    "\n",
    "chlen = len(ch)\n",
    "if chlen==1:\n",
    "    asc = ord(ch)\n",
    "    print(\"\\nASCII Value of \\\"\" +(ch)+ \"\\\" = \" +str(asc))\n",
    "else:\n",
    "    print(\"\\nInvalid Input!\")\n",
    "    "
   ]
  },
  {
   "cell_type": "code",
   "execution_count": 36,
   "id": "c9859379",
   "metadata": {},
   "outputs": [
    {
     "name": "stdout",
     "output_type": "stream",
     "text": [
      "hiral\n",
      "h \t 104\n",
      "i \t 105\n",
      "r \t 114\n",
      "a \t 97\n",
      "l \t 108\n"
     ]
    }
   ],
   "source": [
    "# print (\"Please enter the String: \", end = \"\")  \n",
    "string = input()  \n",
    "string_length = len(string)  \n",
    "for K in string:  \n",
    "    ASCII = ord(K)  \n",
    "    print (K, \"\\t\", ASCII)"
   ]
  },
  {
   "cell_type": "code",
   "execution_count": 40,
   "id": "4dffd3be",
   "metadata": {},
   "outputs": [
    {
     "name": "stdout",
     "output_type": "stream",
     "text": [
      "Enter a Character: \n",
      "R\n",
      "\n",
      "ASCII Value: 82\n"
     ]
    }
   ],
   "source": [
    "print(\"Enter a Character: \")\n",
    "num = input()\n",
    "\n",
    "asc = ord(num)\n",
    "print(\"\\nASCII Value:\", asc)"
   ]
  },
  {
   "cell_type": "code",
   "execution_count": null,
   "id": "8b9c5918",
   "metadata": {},
   "outputs": [],
   "source": [
    "#21. Write a Python program to find power of a number using for loop."
   ]
  },
  {
   "cell_type": "code",
   "execution_count": 46,
   "id": "6a16bf69",
   "metadata": {},
   "outputs": [
    {
     "name": "stdout",
     "output_type": "stream",
     "text": [
      "6\n",
      "1\n",
      "6\n",
      "36\n",
      "216\n",
      "1296\n",
      "7776\n"
     ]
    }
   ],
   "source": [
    "num = int(input())\n",
    "for i in range(0,num):\n",
    "    print(num**i)"
   ]
  },
  {
   "cell_type": "code",
   "execution_count": 266,
   "id": "67da1e26",
   "metadata": {},
   "outputs": [
    {
     "name": "stdout",
     "output_type": "stream",
     "text": [
      "6\n",
      "1\n",
      "6\n",
      "36\n",
      "216\n",
      "1296\n",
      "7776\n"
     ]
    }
   ],
   "source": [
    "num = int(input())\n",
    "for i in range(0,num):\n",
    "    print(num**i)"
   ]
  },
  {
   "cell_type": "code",
   "execution_count": null,
   "id": "41e532e1",
   "metadata": {},
   "outputs": [],
   "source": [
    "#22. Write a Python program to find all factors of a number."
   ]
  },
  {
   "cell_type": "code",
   "execution_count": 6,
   "id": "278d3534",
   "metadata": {},
   "outputs": [
    {
     "name": "stdout",
     "output_type": "stream",
     "text": [
      "20\n",
      "1 2 4 5 10 20 "
     ]
    }
   ],
   "source": [
    "num=int(input())\n",
    "i = 1\n",
    "while i <= num :\n",
    "    if (num % i==0) :\n",
    "        print (i,end=\" \")\n",
    "    i = i + 1"
   ]
  },
  {
   "cell_type": "code",
   "execution_count": 258,
   "id": "28333d97",
   "metadata": {},
   "outputs": [
    {
     "name": "stdout",
     "output_type": "stream",
     "text": [
      "20\n",
      "1 2 4 5 10 20 "
     ]
    }
   ],
   "source": [
    "num = int(input())\n",
    "for i in range(1,num+1):\n",
    "    if (num % i==0):\n",
    "        print(i,end=\" \")"
   ]
  },
  {
   "cell_type": "code",
   "execution_count": null,
   "id": "93cfc9f4",
   "metadata": {},
   "outputs": [],
   "source": [
    "#23. Write a Python program to calculate factorial of a number."
   ]
  },
  {
   "cell_type": "code",
   "execution_count": 57,
   "id": "8ceca202",
   "metadata": {},
   "outputs": [
    {
     "name": "stdout",
     "output_type": "stream",
     "text": [
      "6\n",
      "1\n"
     ]
    }
   ],
   "source": [
    "num=int(input())\n",
    "i = 1\n",
    "fact = 1\n",
    "while num<=0:\n",
    "    fact*= i\n",
    "    i = num + 1\n",
    "print (fact)\n"
   ]
  },
  {
   "cell_type": "code",
   "execution_count": 56,
   "id": "b02e6c0a",
   "metadata": {},
   "outputs": [
    {
     "name": "stdout",
     "output_type": "stream",
     "text": [
      "6\n",
      "1\n",
      "2\n",
      "6\n",
      "24\n",
      "120\n",
      "720\n"
     ]
    }
   ],
   "source": [
    "num=int(input())\n",
    "fac = 1\n",
    "for i in range(1, num+1):\n",
    "#     print(\"i\",i)\n",
    "    fac *= i\n",
    "    print(fac)"
   ]
  },
  {
   "cell_type": "code",
   "execution_count": null,
   "id": "dd6db551",
   "metadata": {},
   "outputs": [],
   "source": [
    "#24. Write a Python program to find HcF (GcD) of two numbers."
   ]
  },
  {
   "cell_type": "code",
   "execution_count": 110,
   "id": "1421f139",
   "metadata": {},
   "outputs": [
    {
     "name": "stdout",
     "output_type": "stream",
     "text": [
      "24\n",
      "60\n",
      "12\n"
     ]
    }
   ],
   "source": [
    "num1=int(input())\n",
    "num2=int(input())\n",
    "i = 1\n",
    "while i <= num1 and i <= num2:\n",
    "    if (num1 % i ==0) and (num2 % i ==0):\n",
    "        gcd = i\n",
    "#     break\n",
    "    i=i+1\n",
    "print(gcd)"
   ]
  },
  {
   "cell_type": "code",
   "execution_count": null,
   "id": "a7313dc8",
   "metadata": {},
   "outputs": [],
   "source": [
    "#25. Write a Python program to find LcM of two numbers."
   ]
  },
  {
   "cell_type": "code",
   "execution_count": 113,
   "id": "9b015e31",
   "metadata": {},
   "outputs": [
    {
     "name": "stdout",
     "output_type": "stream",
     "text": [
      "Enter the first number:25\n",
      "Enter the second number:26\n",
      "LCM is: 650\n"
     ]
    }
   ],
   "source": [
    "a=int(input(\"Enter the first number:\"))\n",
    "b=int(input(\"Enter the second number:\"))\n",
    "if(a>b):\n",
    "    min1=a\n",
    "else:\n",
    "    min1=b\n",
    "while(1):\n",
    "    if(min1%a==0 and min1%b==0):\n",
    "        print(\"LCM is:\",min1)\n",
    "        break\n",
    "    min1=min1+1"
   ]
  },
  {
   "cell_type": "code",
   "execution_count": 117,
   "id": "95df81e5",
   "metadata": {},
   "outputs": [
    {
     "name": "stdout",
     "output_type": "stream",
     "text": [
      "12\n",
      "14\n",
      "LCM of 12 and 14 is 84\n"
     ]
    }
   ],
   "source": [
    "num1 = int(input())\n",
    "num2 = int(input())\n",
    "for i in range(max(num1, num2), 1 + (num1 * num2)):\n",
    "    if i % num1 == 0 and i % num2 == 0:\n",
    "        lcm = i\n",
    "        break\n",
    "print(\"LCM of\", num1, \"and\", num2, \"is\", lcm)"
   ]
  },
  {
   "cell_type": "code",
   "execution_count": null,
   "id": "4cac2816",
   "metadata": {},
   "outputs": [],
   "source": [
    "#26. Write a Python program to check whether a number is Prime number or not."
   ]
  },
  {
   "cell_type": "code",
   "execution_count": 344,
   "id": "bb8cbeb0",
   "metadata": {},
   "outputs": [
    {
     "name": "stdout",
     "output_type": "stream",
     "text": [
      "81\n",
      "81 is not a prime number\n"
     ]
    }
   ],
   "source": [
    "num = int(input())\n",
    "flag = False\n",
    "if num > 1:\n",
    "    for i in range(2, num):\n",
    "        if num % i == 0:\n",
    "            flag = True\n",
    "            break\n",
    "if flag:\n",
    "    print(num, \"is not a prime number\")\n",
    "else:\n",
    "    print(num, \"is a prime number\")"
   ]
  },
  {
   "cell_type": "code",
   "execution_count": 340,
   "id": "2bd66ac6",
   "metadata": {},
   "outputs": [],
   "source": [
    "#27. Write a Python program to print all Prime numbers between 1 to n."
   ]
  },
  {
   "cell_type": "code",
   "execution_count": 328,
   "id": "565f30c3",
   "metadata": {},
   "outputs": [
    {
     "name": "stdout",
     "output_type": "stream",
     "text": [
      "30\n",
      "2\n",
      "3\n",
      "5\n",
      "7\n",
      "11\n",
      "13\n",
      "17\n",
      "19\n",
      "23\n",
      "29\n"
     ]
    }
   ],
   "source": [
    "# low = int(input ())  \n",
    "num1 = int(input ())  \n",
    "for number in range (2,num1 + 1):  \n",
    "    if number > 1:  \n",
    "        for i in range (2, number):  \n",
    "            if (number % i) == 0:  \n",
    "                break  \n",
    "        else:  \n",
    "            print (number)  "
   ]
  },
  {
   "cell_type": "code",
   "execution_count": 153,
   "id": "4155f276",
   "metadata": {},
   "outputs": [
    {
     "name": "stdout",
     "output_type": "stream",
     "text": [
      "25\n",
      "65\n",
      "*********\n",
      "29\n",
      "31\n",
      "37\n",
      "41\n",
      "43\n",
      "47\n",
      "53\n",
      "59\n",
      "61\n"
     ]
    }
   ],
   "source": [
    "\n",
    "start = int(input())\n",
    "end = int(input())\n",
    "\n",
    "print(\"*********\")\n",
    "\n",
    "for num in range(start, end + 1):\n",
    "   # all prime numbers are greater than 1\n",
    "   if num > 1:\n",
    "        for i in range(2, num):\n",
    "            if (num % i) == 0:\n",
    "                break\n",
    "        else:\n",
    "            print(num)"
   ]
  },
  {
   "cell_type": "code",
   "execution_count": null,
   "id": "db65de9e",
   "metadata": {},
   "outputs": [],
   "source": [
    "#28. Write a Python program to find sum of all prime numbers between 1 to n."
   ]
  },
  {
   "cell_type": "code",
   "execution_count": 179,
   "id": "12fb9716",
   "metadata": {},
   "outputs": [
    {
     "name": "stdout",
     "output_type": "stream",
     "text": [
      "9\n",
      "is prime\n",
      "9 is not prime\n"
     ]
    }
   ],
   "source": [
    "num = int(input())\n",
    "sum = 0\n",
    "i = 2\n",
    "for num1 in range(2, num + 1):\n",
    "    for i in range(2, num1):\n",
    "        if (int(num1 % i) == 0):\n",
    "            i = num1\n",
    "            break\n",
    "    if i is not num1:\n",
    "        sum += num1\n",
    "print(num1, \":\", sum)\n"
   ]
  },
  {
   "cell_type": "code",
   "execution_count": 191,
   "id": "c64aa7bb",
   "metadata": {},
   "outputs": [
    {
     "name": "stdout",
     "output_type": "stream",
     "text": [
      "6\n",
      "6 : 8\n"
     ]
    }
   ],
   "source": [
    "num = int(input())\n",
    "sum = 0\n",
    "i = 2\n",
    "for num1 in range(2, num + 1):\n",
    "    for i in range(2, num1):\n",
    "        if (int(num1 % i) == 0):\n",
    "            i = num1\n",
    "            break\n",
    "    if i is not num1:\n",
    "        sum += num1\n",
    "print(num1, \":\", sum)\n"
   ]
  },
  {
   "cell_type": "code",
   "execution_count": null,
   "id": "cd8ef4b6",
   "metadata": {},
   "outputs": [],
   "source": [
    "#29. Write a Python program to find all prime factors of a number."
   ]
  },
  {
   "cell_type": "code",
   "execution_count": 52,
   "id": "3a5333d4",
   "metadata": {},
   "outputs": [
    {
     "name": "stdout",
     "output_type": "stream",
     "text": [
      "20\n",
      "2 20\n",
      "5 20\n"
     ]
    }
   ],
   "source": [
    "num = int(input())\n",
    "for i in range(2,num+1):\n",
    "    if (num % i==0):\n",
    "        pri = 1\n",
    "        for j in range(2,i//2+1):\n",
    "            if i % j == 0:\n",
    "                pri = 0\n",
    "                break\n",
    "        if pri == 1:\n",
    "            print(i,num)"
   ]
  },
  {
   "cell_type": "code",
   "execution_count": null,
   "id": "8ef9b0e4",
   "metadata": {},
   "outputs": [],
   "source": []
  },
  {
   "cell_type": "code",
   "execution_count": 53,
   "id": "5d71797a",
   "metadata": {},
   "outputs": [
    {
     "name": "stdout",
     "output_type": "stream",
     "text": [
      "20\n",
      "2 20\n",
      "5 20\n"
     ]
    }
   ],
   "source": [
    " \n",
    "Number = int(input())\n",
    "i = 1\n",
    "while(i <= Number):\n",
    "    count = 0\n",
    "    if(Number % i == 0):\n",
    "        j = 1\n",
    "        while(j <= i):\n",
    "            if(i % j == 0):\n",
    "                count = count + 1\n",
    "            j = j + 1\n",
    "        if (count == 2):\n",
    "            print(i, Number)\n",
    "    i = i + 1"
   ]
  },
  {
   "cell_type": "code",
   "execution_count": null,
   "id": "72c8f6fa",
   "metadata": {},
   "outputs": [],
   "source": [
    "#30. Write a Python program to check whether a number is Armstrong number or not."
   ]
  },
  {
   "cell_type": "code",
   "execution_count": 86,
   "id": "30a78ce9",
   "metadata": {},
   "outputs": [
    {
     "name": "stdout",
     "output_type": "stream",
     "text": [
      "153\n",
      "Armstrong number\n"
     ]
    }
   ],
   "source": [
    "num = int(input())\n",
    "sum = 0\n",
    "temp = num\n",
    "while temp > 0:\n",
    "    digit = temp % 10\n",
    "    sum += digit ** 3\n",
    "    temp //= 10\n",
    "if num == sum:\n",
    "    print(\"Armstrong number\")\n",
    "else:\n",
    "    print(\" not Armstrong number\")"
   ]
  },
  {
   "cell_type": "code",
   "execution_count": null,
   "id": "e349eb82",
   "metadata": {},
   "outputs": [],
   "source": [
    "#31. Write a Python program to print all Armstrong numbers between 1 to n."
   ]
  },
  {
   "cell_type": "code",
   "execution_count": 121,
   "id": "59a3adb2",
   "metadata": {},
   "outputs": [
    {
     "name": "stdout",
     "output_type": "stream",
     "text": [
      "20\n",
      "8 Armstrong number\n",
      "20  not Armstrong number\n"
     ]
    }
   ],
   "source": [
    "num1 = int(input())\n",
    "sum1 = 0\n",
    "temp = num1\n",
    "for num1 in range(1,num1+1):\n",
    "    while temp > 0:\n",
    "        digit = temp % 10\n",
    "        sum1 += digit ** 3\n",
    "        temp //= 10\n",
    "    if num1 == sum1:\n",
    "        print(num1,\"Armstrong number\")\n",
    "else:\n",
    "    print(num1,\" not Armstrong number\")\n",
    "num=num+1\n"
   ]
  },
  {
   "cell_type": "code",
   "execution_count": 335,
   "id": "59099daf",
   "metadata": {},
   "outputs": [
    {
     "name": "stdout",
     "output_type": "stream",
     "text": [
      "20\n",
      "armstrong num\n",
      "armstrong num\n"
     ]
    }
   ],
   "source": [
    "num = int(input())\n",
    "forwd = num\n",
    "for i in range(1,num):\n",
    "    if forwd >0:\n",
    "        digit = forwd %10\n",
    "        sum += digit**3\n",
    "        forwd//=10\n",
    "        print(\"armstrong num\")\n",
    "else:\n",
    "    (\"not a aramstrong num\")"
   ]
  },
  {
   "cell_type": "code",
   "execution_count": null,
   "id": "cdc3a8c4",
   "metadata": {},
   "outputs": [],
   "source": [
    "num = int(input())\n",
    "forwd = num\n",
    "for i in range(1,num):\n",
    "    if forwd >0:\n",
    "        digit = forwd %10\n",
    "        sum += digit**3\n",
    "        forwd//=10\n",
    "    print(\"armstrong num\")\n",
    "else:\n",
    "    (\"not a aramstrong num\")"
   ]
  },
  {
   "cell_type": "code",
   "execution_count": null,
   "id": "93216f4a",
   "metadata": {},
   "outputs": [],
   "source": [
    "#32. Write a Python program to check whether a number is Perfect number or not."
   ]
  },
  {
   "cell_type": "code",
   "execution_count": 333,
   "id": "929da584",
   "metadata": {},
   "outputs": [
    {
     "name": "stdout",
     "output_type": "stream",
     "text": [
      "28\n",
      "1\n",
      "2\n",
      "4\n",
      "7\n",
      "14\n",
      "perfect\n"
     ]
    }
   ],
   "source": [
    "n = int(input())\n",
    "sum1 = 0\n",
    "for i in range (1,n):\n",
    "    if n % i ==0:\n",
    "        print(i)\n",
    "        sum1 = sum1+i\n",
    "if sum1 == n:\n",
    "    print(\"perfect\")\n",
    "else:\n",
    "    print(\"not\")"
   ]
  },
  {
   "cell_type": "code",
   "execution_count": null,
   "id": "931e7230",
   "metadata": {},
   "outputs": [],
   "source": []
  },
  {
   "cell_type": "code",
   "execution_count": null,
   "id": "1239b0ca",
   "metadata": {},
   "outputs": [],
   "source": [
    "# 33. Write a Python program to print all Perfect numbers between 1 to n."
   ]
  },
  {
   "cell_type": "code",
   "execution_count": 2,
   "id": "0515748c",
   "metadata": {},
   "outputs": [
    {
     "name": "stdout",
     "output_type": "stream",
     "text": [
      "10\n",
      "1\n",
      "2\n",
      "5\n",
      "not\n"
     ]
    }
   ],
   "source": [
    "n = int(input())\n",
    "sum1 = 0\n",
    "for i in range (1,n):\n",
    "    if n % i ==0:\n",
    "        print(i)\n",
    "        sum1 = sum1+i\n",
    "if sum1 == n:\n",
    "    print(\"perfect\")\n",
    "else:\n",
    "    print(\"not\")"
   ]
  },
  {
   "cell_type": "code",
   "execution_count": null,
   "id": "f4738ce9",
   "metadata": {},
   "outputs": [],
   "source": [
    "#34. Write a Python program to check whether a number is Strong number or not."
   ]
  },
  {
   "cell_type": "code",
   "execution_count": 175,
   "id": "3fb72062",
   "metadata": {},
   "outputs": [
    {
     "name": "stdout",
     "output_type": "stream",
     "text": [
      "145\n",
      "digit 5\n",
      "fact 1\n",
      "i 1\n",
      "fact 2\n",
      "i 2\n",
      "fact 6\n",
      "i 3\n",
      "fact 24\n",
      "i 4\n",
      "fact 120\n",
      "i 5\n",
      "sum1 120\n",
      "temp 145\n",
      "digit 4\n",
      "fact 1\n",
      "i 1\n",
      "fact 2\n",
      "i 2\n",
      "fact 6\n",
      "i 3\n",
      "fact 24\n",
      "i 4\n",
      "sum1 144\n",
      "temp 145\n",
      "digit 1\n",
      "fact 1\n",
      "i 1\n",
      "sum1 145\n",
      "temp 145\n",
      "strog\n"
     ]
    }
   ],
   "source": [
    "n = int(input())\n",
    "sum1 = 0\n",
    "temp = n\n",
    "while n:\n",
    "    i = 1\n",
    "    fact = 1\n",
    "    digit= n%10\n",
    "    print(\"digit\",digit)\n",
    "    while i<=digit: \n",
    "        fact=fact*i\n",
    "        print('fact',fact)\n",
    "        print('i',i)\n",
    "        i=i+1\n",
    "    sum1 += fact\n",
    "    print('sum1',sum1)\n",
    "    n=n//10\n",
    "    print('temp',temp)\n",
    "#     break\n",
    "if sum1 == temp:\n",
    "    print(\"strog\")\n",
    "else:\n",
    "    print(\"not\")"
   ]
  },
  {
   "cell_type": "code",
   "execution_count": null,
   "id": "af0a6745",
   "metadata": {},
   "outputs": [],
   "source": []
  },
  {
   "cell_type": "code",
   "execution_count": null,
   "id": "b77c7f57",
   "metadata": {},
   "outputs": [],
   "source": [
    "num = int(input())\n",
    "sum = 0\n",
    "temp = num\n",
    "while temp > 0:\n",
    "    digit = temp % 10\n",
    "    sum += digit ** 3\n",
    "    temp //= 10\n",
    "if num == sum:\n",
    "    print(\"Armstrong number\")\n",
    "else:\n",
    "    print(\" not Armstrong number\")"
   ]
  },
  {
   "cell_type": "code",
   "execution_count": null,
   "id": "69cf251e",
   "metadata": {},
   "outputs": [],
   "source": [
    "#35. Write a Python program to print all Strong numbers between 1 to n."
   ]
  },
  {
   "cell_type": "code",
   "execution_count": 336,
   "id": "cd025c85",
   "metadata": {},
   "outputs": [
    {
     "name": "stdout",
     "output_type": "stream",
     "text": [
      "28\n",
      "not\n"
     ]
    }
   ],
   "source": [
    "n = int(input())\n",
    "sum1 = 0\n",
    "temp = n\n",
    "fact = 1\n",
    "for i in range(1,n):\n",
    "    if n%10:\n",
    "        fact=fact*i\n",
    "    sum1 += fact\n",
    "    n=n//10\n",
    "if sum1 == temp:\n",
    "    print(\"strog\")\n",
    "else:\n",
    "    print(\"not\")"
   ]
  },
  {
   "cell_type": "code",
   "execution_count": null,
   "id": "569f10ff",
   "metadata": {},
   "outputs": [],
   "source": [
    "#36. Write a Python program to print Fibonacci series up to n terms."
   ]
  },
  {
   "cell_type": "code",
   "execution_count": 338,
   "id": "40f3b536",
   "metadata": {},
   "outputs": [
    {
     "name": "stdout",
     "output_type": "stream",
     "text": [
      "12\n",
      "1 2 3 5 8 13 21 34 55 89 144 233 \n"
     ]
    }
   ],
   "source": [
    "num = int(input())\n",
    "f1=0\n",
    "f2=1\n",
    "# print(\"Fibonacci Series:\",end=\" \")\n",
    "for i in range(0, num):\n",
    "    f3=f1+f2\n",
    "#     print(\"f3\",f3)\n",
    "    f1=f2\n",
    "#     print('f1',f1)\n",
    "    f2=f3\n",
    "#     print('f2',f2)\n",
    "    print(f3,end=\" \")\n",
    "print()"
   ]
  },
  {
   "cell_type": "code",
   "execution_count": 139,
   "id": "b3b1367a",
   "metadata": {},
   "outputs": [
    {
     "name": "stdout",
     "output_type": "stream",
     "text": [
      "10\n",
      "f series\n",
      "0 1 1 2 3 5 8 13 21 34 "
     ]
    }
   ],
   "source": [
    "num=int(input())\n",
    "count=0\n",
    "n1=0\n",
    "n2=1\n",
    "# if num<=0:\n",
    "#     print(\"not valid\")\n",
    "# elif num==1:\n",
    "#     print(num)\n",
    "#     print(n1)\n",
    "# else:\n",
    "#     print(\"f series\")\n",
    "    while count<num:\n",
    "        print(n1,end=\" \")\n",
    "        res=n1+n2\n",
    "        n1 = n2  \n",
    "        n2 = res  \n",
    "        count +=1"
   ]
  },
  {
   "cell_type": "code",
   "execution_count": null,
   "id": "715409ae",
   "metadata": {},
   "outputs": [],
   "source": [
    "#37. Write a Python program to find one's complement of a binary number."
   ]
  },
  {
   "cell_type": "code",
   "execution_count": 140,
   "id": "352520ab",
   "metadata": {},
   "outputs": [
    {
     "name": "stdout",
     "output_type": "stream",
     "text": [
      "1010\n",
      "1\n",
      "0"
     ]
    }
   ],
   "source": [
    "num = int(input())\n",
    "rev=0\n",
    "for i in range(0,num+1):\n",
    "    if num %10==0:\n",
    "        print(\"1\")\n",
    "        num=num//10\n",
    "        rev = rev*10\n",
    "print(rev,end=\"\")\n",
    "# else:\n",
    "    # print(\"0\")\n"
   ]
  },
  {
   "cell_type": "code",
   "execution_count": null,
   "id": "2bd80383",
   "metadata": {
    "scrolled": true
   },
   "outputs": [],
   "source": [
    "num=int(input())\n",
    "count=0\n",
    "bin1=0\n",
    "temp=num\n",
    "# temp = 0\n",
    "while temp>=0:\n",
    "    temp=temp//10\n",
    "    count=count+1\n",
    "print(count)\n",
    "print(\"***********************\")\n",
    "while count>0:\n",
    "    last=num%10\n",
    "    bin2=last*(2**(count))\n",
    "    print(\"bin2\",bin2)\n",
    "    bin1+=bin2\n",
    "    num=num//10\n",
    "    count-=1\n",
    "print(bin1)"
   ]
  },
  {
   "cell_type": "code",
   "execution_count": 65,
   "id": "b3274b1c",
   "metadata": {},
   "outputs": [
    {
     "name": "stdout",
     "output_type": "stream",
     "text": [
      "1111\n",
      "15\n"
     ]
    }
   ],
   "source": [
    "# num=int(input())\n",
    "num=int(input())\n",
    "# count=0\n",
    "bin1=0\n",
    "# temp=num\n",
    "# print(temp)\n",
    "count=len(str(num))\n",
    "# temp = 0\n",
    "# while temp>0:\n",
    "#     temp=temp//10\n",
    "#     print(\"temp\",temp)\n",
    "#     count=count+1\n",
    "# print(count)\n",
    "# print(\"***********************\")\n",
    "for i in range(0,count):\n",
    "#     print(\"in while\")\n",
    "    last=num%10\n",
    "#     print(\"last\",last)\n",
    "    bin1+=last*(2**i)\n",
    "#     print(bin1)\n",
    "    num=num//10\n",
    "#     print(\"num\",num)\n",
    "#     count-=1\n",
    "#     print(\"count\",count)\n",
    "print(bin1)"
   ]
  },
  {
   "cell_type": "code",
   "execution_count": 1,
   "id": "98e0f8d8",
   "metadata": {},
   "outputs": [
    {
     "name": "stdout",
     "output_type": "stream",
     "text": [
      "10010110\n",
      "150\n"
     ]
    }
   ],
   "source": [
    "num=int(input())\n",
    "bin1=0\n",
    "count=len(str(num))\n",
    "for i in range(0,count):\n",
    "    last=num%10\n",
    "    bin1+=last*(2**i)\n",
    "    num=num//10\n",
    "print(bin1)"
   ]
  },
  {
   "cell_type": "code",
   "execution_count": 50,
   "id": "66513648",
   "metadata": {},
   "outputs": [
    {
     "name": "stdout",
     "output_type": "stream",
     "text": [
      "num1111\n",
      "i 3\n",
      "j 1\n",
      "bin 8\n",
      "i 2\n",
      "j 1\n",
      "bin 4\n",
      "i 1\n",
      "j 1\n",
      "bin 2\n",
      "i 0\n",
      "j 1\n",
      "bin 1\n",
      "15\n"
     ]
    }
   ],
   "source": [
    "num = input(\"num\")\n",
    "length=len(num)\n",
    "i=length-1\n",
    "j=0\n",
    "decimal=0\n",
    "while i>=0:\n",
    "    print(\"i\",i)\n",
    "    bin1=2**i*(int(num[j]))\n",
    "    print(\"j\",num[j])\n",
    "    print(\"bin\",bin1)\n",
    "    decimal+=bin1\n",
    "    i-=1\n",
    "    j+=1\n",
    "print(decimal)"
   ]
  },
  {
   "cell_type": "markdown",
   "id": "ce0efc96",
   "metadata": {},
   "source": [
    "num=int(input())\n",
    "count=0\n",
    "bin1=0\n",
    "temp = 0\n",
    "while num>0:\n",
    "    num=num//10\n",
    "    count=count+1\n",
    "print(count)\n",
    "while count>=0:\n",
    "    last=num%10\n",
    "    bin1+=last*2**count\n",
    "    print(bin1)\n",
    "    count-=1\n",
    "print(bin1)\n",
    "    "
   ]
  },
  {
   "cell_type": "code",
   "execution_count": 26,
   "id": "c5ae8c42",
   "metadata": {},
   "outputs": [
    {
     "name": "stdout",
     "output_type": "stream",
     "text": [
      "Enter number:125463987\n",
      "The number of digits in the number are: 9\n"
     ]
    }
   ],
   "source": [
    "Number = int(input(\"Please Enter any Number: \"))\n",
    "Count = 0\n",
    "for i in range(Number):\n",
    "#while(Number > 0):\n",
    "    #print(\"\\n Number of Digits in a Given Number = \",Number)\n",
    "#     Number = Number%10\n",
    "    Count = Count + 1\n",
    "print(\"\\n Number of Digits in a Given Number = \",count)"
   ]
  },
  {
   "cell_type": "code",
   "execution_count": 362,
   "id": "55e056c8",
   "metadata": {},
   "outputs": [],
   "source": [
    "#38. Write a Python program to find two's complement of a binary number."
   ]
  },
  {
   "cell_type": "code",
   "execution_count": 232,
   "id": "378ca5b7",
   "metadata": {},
   "outputs": [
    {
     "name": "stdout",
     "output_type": "stream",
     "text": [
      "110\n"
     ]
    }
   ],
   "source": [
    "num = int(input())\n",
    "two=~num\n",
    "while num%10:\n",
    "#     count=num+1\n",
    "    print(two)"
   ]
  },
  {
   "cell_type": "code",
   "execution_count": null,
   "id": "4261f4b6",
   "metadata": {},
   "outputs": [],
   "source": [
    "#39. Write a Python program to convert Binary to Octal number system."
   ]
  },
  {
   "cell_type": "code",
   "execution_count": 2,
   "id": "15f1a3bb",
   "metadata": {},
   "outputs": [
    {
     "name": "stdout",
     "output_type": "stream",
     "text": [
      "10010110\n",
      "150\n"
     ]
    }
   ],
   "source": [
    "#first convert binary to decimal\n",
    "# First convert this into decimal number\n",
    "# = (10010110)2\n",
    "# = 1x27+0x26+0x25+1x24+0x23+1x22+1x21+0x20\n",
    "# = 128+0+0+16+0+4+2+0\n",
    "# = (150)10\n",
    "# Then, convert it into octal number\n",
    "# = (150)10\n",
    "# = 2x82+2x81+6x80\n",
    "# = (226)8 which is answer.\n",
    "num=int(input())\n",
    "bin1=0\n",
    "count=len(str(num))\n",
    "for i in range(0,count):\n",
    "    last=num%10\n",
    "    bin1+=last*(2**i)\n",
    "    num=num//10\n",
    "print(bin1)\n"
   ]
  },
  {
   "cell_type": "code",
   "execution_count": null,
   "id": "d011ff0a",
   "metadata": {},
   "outputs": [],
   "source": [
    "#40. Write a Python program to convert Binary to Decimal number system."
   ]
  },
  {
   "cell_type": "code",
   "execution_count": 66,
   "id": "99cf9cc8",
   "metadata": {},
   "outputs": [
    {
     "name": "stdout",
     "output_type": "stream",
     "text": [
      "num1111\n",
      "15\n"
     ]
    }
   ],
   "source": [
    "num = input(\"num\")\n",
    "length=len(num)\n",
    "i=length-1\n",
    "j=0\n",
    "decimal=0\n",
    "while i>=0:\n",
    "    bin1=2**i*(int(num[j]))\n",
    "    decimal+=bin1\n",
    "    i-=1\n",
    "    j+=1\n",
    "print(decimal)"
   ]
  },
  {
   "cell_type": "code",
   "execution_count": null,
   "id": "ff80cbaa",
   "metadata": {},
   "outputs": [],
   "source": [
    "#41. Write a Python program to convert Binary to Hexadecimal number system."
   ]
  },
  {
   "cell_type": "code",
   "execution_count": null,
   "id": "674b5e24",
   "metadata": {},
   "outputs": [],
   "source": []
  },
  {
   "cell_type": "code",
   "execution_count": null,
   "id": "8d96a9bd",
   "metadata": {},
   "outputs": [],
   "source": [
    "#42. Write a Python program to convert Octal to Binary number system."
   ]
  },
  {
   "cell_type": "code",
   "execution_count": null,
   "id": "47c3f034",
   "metadata": {},
   "outputs": [],
   "source": [
    "#43. Write a Python program to convert Octal to Decimal number system."
   ]
  },
  {
   "cell_type": "code",
   "execution_count": 28,
   "id": "467abc4c",
   "metadata": {},
   "outputs": [
    {
     "name": "stdout",
     "output_type": "stream",
     "text": [
      "Enter an octal number :20\n",
      "The decimal value is : 16\n"
     ]
    }
   ],
   "source": [
    "num = int(input(\"Enter an octal number :\"))\n",
    "\n",
    "# OctalToDecimal(int(num))\n",
    "\n",
    "# def OctalToDecimal(num):\n",
    "\n",
    "decimal_value = 0\n",
    "base = 1\n",
    "while (num):\n",
    "    last_digit = num % 10\n",
    "    num = num //10\n",
    "    decimal_value += last_digit * base\n",
    "    base = base * 8\n",
    "print(\"The decimal value is :\",decimal_value)"
   ]
  },
  {
   "cell_type": "code",
   "execution_count": null,
   "id": "5de28b35",
   "metadata": {},
   "outputs": [],
   "source": [
    "#44. Write a Python program to convert Octal to Hexadecimal number system."
   ]
  },
  {
   "cell_type": "code",
   "execution_count": 96,
   "id": "17032335",
   "metadata": {},
   "outputs": [
    {
     "ename": "KeyboardInterrupt",
     "evalue": "Interrupted by user",
     "output_type": "error",
     "traceback": [
      "\u001b[0;31m---------------------------------------------------------------------------\u001b[0m",
      "\u001b[0;31mKeyboardInterrupt\u001b[0m                         Traceback (most recent call last)",
      "Input \u001b[0;32mIn [96]\u001b[0m, in \u001b[0;36m<cell line: 1>\u001b[0;34m()\u001b[0m\n\u001b[0;32m----> 1\u001b[0m \u001b[38;5;28moct\u001b[39m \u001b[38;5;241m=\u001b[39m\u001b[38;5;28;43minput\u001b[39;49m\u001b[43m(\u001b[49m\u001b[43m)\u001b[49m\n\u001b[1;32m      2\u001b[0m \u001b[38;5;28mprint\u001b[39m(\u001b[38;5;124m\"\u001b[39m\u001b[38;5;124mbimary\u001b[39m\u001b[38;5;124m\"\u001b[39m,\u001b[38;5;28mbin\u001b[39m(\u001b[38;5;28moct\u001b[39m))\n",
      "File \u001b[0;32m~/.local/lib/python3.9/site-packages/ipykernel/kernelbase.py:1177\u001b[0m, in \u001b[0;36mKernel.raw_input\u001b[0;34m(self, prompt)\u001b[0m\n\u001b[1;32m   1173\u001b[0m \u001b[38;5;28;01mif\u001b[39;00m \u001b[38;5;129;01mnot\u001b[39;00m \u001b[38;5;28mself\u001b[39m\u001b[38;5;241m.\u001b[39m_allow_stdin:\n\u001b[1;32m   1174\u001b[0m     \u001b[38;5;28;01mraise\u001b[39;00m StdinNotImplementedError(\n\u001b[1;32m   1175\u001b[0m         \u001b[38;5;124m\"\u001b[39m\u001b[38;5;124mraw_input was called, but this frontend does not support input requests.\u001b[39m\u001b[38;5;124m\"\u001b[39m\n\u001b[1;32m   1176\u001b[0m     )\n\u001b[0;32m-> 1177\u001b[0m \u001b[38;5;28;01mreturn\u001b[39;00m \u001b[38;5;28;43mself\u001b[39;49m\u001b[38;5;241;43m.\u001b[39;49m\u001b[43m_input_request\u001b[49m\u001b[43m(\u001b[49m\n\u001b[1;32m   1178\u001b[0m \u001b[43m    \u001b[49m\u001b[38;5;28;43mstr\u001b[39;49m\u001b[43m(\u001b[49m\u001b[43mprompt\u001b[49m\u001b[43m)\u001b[49m\u001b[43m,\u001b[49m\n\u001b[1;32m   1179\u001b[0m \u001b[43m    \u001b[49m\u001b[38;5;28;43mself\u001b[39;49m\u001b[38;5;241;43m.\u001b[39;49m\u001b[43m_parent_ident\u001b[49m\u001b[43m[\u001b[49m\u001b[38;5;124;43m\"\u001b[39;49m\u001b[38;5;124;43mshell\u001b[39;49m\u001b[38;5;124;43m\"\u001b[39;49m\u001b[43m]\u001b[49m\u001b[43m,\u001b[49m\n\u001b[1;32m   1180\u001b[0m \u001b[43m    \u001b[49m\u001b[38;5;28;43mself\u001b[39;49m\u001b[38;5;241;43m.\u001b[39;49m\u001b[43mget_parent\u001b[49m\u001b[43m(\u001b[49m\u001b[38;5;124;43m\"\u001b[39;49m\u001b[38;5;124;43mshell\u001b[39;49m\u001b[38;5;124;43m\"\u001b[39;49m\u001b[43m)\u001b[49m\u001b[43m,\u001b[49m\n\u001b[1;32m   1181\u001b[0m \u001b[43m    \u001b[49m\u001b[43mpassword\u001b[49m\u001b[38;5;241;43m=\u001b[39;49m\u001b[38;5;28;43;01mFalse\u001b[39;49;00m\u001b[43m,\u001b[49m\n\u001b[1;32m   1182\u001b[0m \u001b[43m\u001b[49m\u001b[43m)\u001b[49m\n",
      "File \u001b[0;32m~/.local/lib/python3.9/site-packages/ipykernel/kernelbase.py:1219\u001b[0m, in \u001b[0;36mKernel._input_request\u001b[0;34m(self, prompt, ident, parent, password)\u001b[0m\n\u001b[1;32m   1216\u001b[0m             \u001b[38;5;28;01mbreak\u001b[39;00m\n\u001b[1;32m   1217\u001b[0m \u001b[38;5;28;01mexcept\u001b[39;00m \u001b[38;5;167;01mKeyboardInterrupt\u001b[39;00m:\n\u001b[1;32m   1218\u001b[0m     \u001b[38;5;66;03m# re-raise KeyboardInterrupt, to truncate traceback\u001b[39;00m\n\u001b[0;32m-> 1219\u001b[0m     \u001b[38;5;28;01mraise\u001b[39;00m \u001b[38;5;167;01mKeyboardInterrupt\u001b[39;00m(\u001b[38;5;124m\"\u001b[39m\u001b[38;5;124mInterrupted by user\u001b[39m\u001b[38;5;124m\"\u001b[39m) \u001b[38;5;28;01mfrom\u001b[39;00m \u001b[38;5;28mNone\u001b[39m\n\u001b[1;32m   1220\u001b[0m \u001b[38;5;28;01mexcept\u001b[39;00m \u001b[38;5;167;01mException\u001b[39;00m:\n\u001b[1;32m   1221\u001b[0m     \u001b[38;5;28mself\u001b[39m\u001b[38;5;241m.\u001b[39mlog\u001b[38;5;241m.\u001b[39mwarning(\u001b[38;5;124m\"\u001b[39m\u001b[38;5;124mInvalid Message:\u001b[39m\u001b[38;5;124m\"\u001b[39m, exc_info\u001b[38;5;241m=\u001b[39m\u001b[38;5;28;01mTrue\u001b[39;00m)\n",
      "\u001b[0;31mKeyboardInterrupt\u001b[0m: Interrupted by user"
     ]
    }
   ],
   "source": [
    "oct =input()\n",
    "print(\"bimary\",bin(oct))"
   ]
  },
  {
   "cell_type": "code",
   "execution_count": 243,
   "id": "a1c63c67",
   "metadata": {},
   "outputs": [
    {
     "name": "stdout",
     "output_type": "stream",
     "text": [
      "hexa 0x3f2\n"
     ]
    }
   ],
   "source": [
    "oct = int(\"0o1762\",8)\n",
    "print(\"hexa\",hex(oct))"
   ]
  },
  {
   "cell_type": "code",
   "execution_count": null,
   "id": "9ac82508",
   "metadata": {},
   "outputs": [],
   "source": [
    "#45. Write a Python program to convert Decimal to Binary number system."
   ]
  },
  {
   "cell_type": "code",
   "execution_count": null,
   "id": "119aefd1",
   "metadata": {},
   "outputs": [],
   "source": [
    "#46. Write a Python program to convert Decimal to Octal number system."
   ]
  },
  {
   "cell_type": "code",
   "execution_count": 37,
   "id": "c177c3dc",
   "metadata": {},
   "outputs": [
    {
     "name": "stdout",
     "output_type": "stream",
     "text": [
      "Enter a decimal number :478\n",
      "736\n"
     ]
    }
   ],
   "source": [
    "decimal = int(input(\"Enter a decimal number :\"))\n",
    "# print(\"The octal equivalent is :\",decimal_to_octal(decimal))\n",
    "octal = 0\n",
    "i = 1\n",
    "while (decimal != 0):\n",
    "    octal = octal + (decimal % 8) * i\n",
    "    decimal = int(decimal / 8)\n",
    "    i = i * 10\n",
    "\n",
    "print(octal)\n",
    "# return octal"
   ]
  },
  {
   "cell_type": "code",
   "execution_count": null,
   "id": "ad3bfc02",
   "metadata": {},
   "outputs": [],
   "source": [
    "#47. Write a Python program to convert Decimal to Hexadecimal number system."
   ]
  },
  {
   "cell_type": "code",
   "execution_count": 34,
   "id": "56fb7373",
   "metadata": {},
   "outputs": [
    {
     "name": "stdout",
     "output_type": "stream",
     "text": [
      "Enter a decimal number :45\n",
      "33\n"
     ]
    }
   ],
   "source": [
    "decimal = int(input(\"Enter a decimal number :\"))\n",
    "# print(\"The octal equivalent is :\",decimal_to_octal(decimal))\n",
    "hexa = 0\n",
    "i = 1\n",
    "while (decimal != 0):\n",
    "    hexa = hexa + (decimal % 16) * i\n",
    "    decimal = decimal // 16\n",
    "    i = i * 10\n",
    "\n",
    "print(hexa)\n",
    "# return octal"
   ]
  },
  {
   "cell_type": "code",
   "execution_count": 33,
   "id": "86705e4b",
   "metadata": {},
   "outputs": [
    {
     "name": "stdout",
     "output_type": "stream",
     "text": [
      "65\n",
      "convert into:[1]binary,[2]octa[3]hexadecimal:3\n",
      "convert to hexadecimal 0x41\n"
     ]
    }
   ],
   "source": [
    "decimal = int(input())\n",
    "convert = int(input(\"convert into:[1]binary,[2]octa[3]hexadecimal:\",))\n",
    "if convert==1:\n",
    "    print(\"convert to binary\",bin(decimal))\n",
    "elif convert==2:\n",
    "    print(\"convert to octal\",oct(decimal))\n",
    "elif convert==3:\n",
    "    print(\"convert to hexadecimal\",hex(decimal))\n",
    "else:\n",
    "    (\"better luck next time\")\n"
   ]
  },
  {
   "cell_type": "code",
   "execution_count": null,
   "id": "d848c767",
   "metadata": {},
   "outputs": [],
   "source": [
    "#48. Write a Python program to convert Hexadecimal to Binary number system."
   ]
  },
  {
   "cell_type": "code",
   "execution_count": null,
   "id": "3015eb6a",
   "metadata": {},
   "outputs": [],
   "source": [
    "#49. Write a Python program to convert Hexadecimal to Octal number system."
   ]
  },
  {
   "cell_type": "code",
   "execution_count": null,
   "id": "f7fdd01b",
   "metadata": {},
   "outputs": [],
   "source": [
    "#50. Write a Python program to convert Hexadecimal to Decimal number system."
   ]
  },
  {
   "cell_type": "code",
   "execution_count": null,
   "id": "90cb76a0",
   "metadata": {},
   "outputs": [],
   "source": [
    "hexadecimal = input()\n",
    "convert = int(input(\"convert into:[1]binary,[2]octa[3]hexadecimal:\",))\n",
    "if convert==1:\n",
    "    print(\"convert to binary\",bin(hexadecimal))\n",
    "elif convert==2:\n",
    "    print(\"convert to octal\",oct(hexadecimal))\n",
    "elif convert==3:\n",
    "    print(\"convert to hexadecimal\",dec(hexadecimal))\n",
    "else:\n",
    "    (\"better luck next time\")"
   ]
  },
  {
   "cell_type": "code",
   "execution_count": null,
   "id": "a6c61a11",
   "metadata": {},
   "outputs": [],
   "source": [
    "#51. Write a Python program to print Pascal triangle upto n rows."
   ]
  },
  {
   "cell_type": "code",
   "execution_count": null,
   "id": "2ccc3089",
   "metadata": {},
   "outputs": [],
   "source": []
  },
  {
   "cell_type": "code",
   "execution_count": 186,
   "id": "4aee506c",
   "metadata": {},
   "outputs": [
    {
     "name": "stdout",
     "output_type": "stream",
     "text": [
      "Enter the row size: 5\n",
      "1 \n",
      "1 2 \n",
      "3 5 8 \n",
      "13 21 34 55 \n",
      "89 144 233 377 610 \n"
     ]
    }
   ],
   "source": [
    "row = int(input(\"Enter the row size: \"))\n",
    "a = 0\n",
    "b = 1\n",
    "c = a+b\n",
    "for i in range(1, row+1):\n",
    "    for j in range(1, i+1):\n",
    "        print(c, end=\" \")\n",
    "        c = a+b\n",
    "        a = b\n",
    "        b = c\n",
    "    print(\"\\r\")"
   ]
  },
  {
   "cell_type": "code",
   "execution_count": 184,
   "id": "382b0e29",
   "metadata": {},
   "outputs": [
    {
     "ename": "SyntaxError",
     "evalue": "positional argument follows keyword argument (1907355167.py, line 7)",
     "output_type": "error",
     "traceback": [
      "\u001b[0;36m  Input \u001b[0;32mIn [184]\u001b[0;36m\u001b[0m\n\u001b[0;31m    print(end=\" \",C)\u001b[0m\n\u001b[0m                   ^\u001b[0m\n\u001b[0;31mSyntaxError\u001b[0m\u001b[0;31m:\u001b[0m positional argument follows keyword argument\n"
     ]
    }
   ],
   "source": [
    "row = int(input(\"Enter the row size: \"))\n",
    "a = 0\n",
    "b = 1\n",
    "c = a+b\n",
    "for i in range(1, row+1):\n",
    "    for j in range(1, i+1):\n",
    "        print(c,\n",
    "              end=\" \")\n",
    "        c = a+b\n",
    "        a = b\n",
    "        b = c\n",
    "    print(\"\\r\")"
   ]
  },
  {
   "cell_type": "code",
   "execution_count": null,
   "id": "f72364f5",
   "metadata": {},
   "outputs": [],
   "source": []
  },
  {
   "cell_type": "code",
   "execution_count": null,
   "id": "4e7a19b5",
   "metadata": {},
   "outputs": [],
   "source": []
  },
  {
   "cell_type": "code",
   "execution_count": null,
   "id": "d2a90c53",
   "metadata": {},
   "outputs": [],
   "source": []
  },
  {
   "cell_type": "code",
   "execution_count": null,
   "id": "4d455449",
   "metadata": {},
   "outputs": [],
   "source": []
  }
 ],
 "metadata": {
  "kernelspec": {
   "display_name": "Python 3 (ipykernel)",
   "language": "python",
   "name": "python3"
  },
  "language_info": {
   "codemirror_mode": {
    "name": "ipython",
    "version": 3
   },
   "file_extension": ".py",
   "mimetype": "text/x-python",
   "name": "python",
   "nbconvert_exporter": "python",
   "pygments_lexer": "ipython3",
   "version": "3.9.7"
  }
 },
 "nbformat": 4,
 "nbformat_minor": 5
}
